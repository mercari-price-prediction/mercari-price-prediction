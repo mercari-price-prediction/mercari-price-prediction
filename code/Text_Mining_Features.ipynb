{
  "cells": [
    {
      "metadata": {
        "_uuid": "d04333e758f8716e4768de1b82ba26c8ed038e44"
      },
      "cell_type": "markdown",
      "source": "## Mercari Price Suggestion Challenge\n\nThe objective of this challenge is to build an algorithm that automatically suggests the right product prices on Mercari. The training data consists of user-inputted text descriptions of their products, including details like product category name, brand name, and item condition"
    },
    {
      "metadata": {
        "_uuid": "36a7b6e31e04db1369b9e1cbff8e695758a19009",
        "_cell_guid": "7dfaf2a8-87e1-4b94-828c-7cb4b1e15729",
        "trusted": true,
        "collapsed": true
      },
      "cell_type": "code",
      "source": "# Import required libraries\nimport numpy as np\nimport pandas as pd\nimport string\nimport re\nimport pickle\n\n# Text mining \nimport nltk\nfrom nltk.stem.porter import *\nfrom nltk.tokenize import word_tokenize, sent_tokenize\nfrom nltk.corpus import stopwords\nfrom sklearn.feature_extraction.text import TfidfVectorizer, CountVectorizer\nfrom sklearn.decomposition import NMF, LatentDirichletAllocation\nfrom sklearn.feature_extraction import stop_words\nfrom sklearn.decomposition import TruncatedSVD\n\n# Time \nfrom time import time\n\n#Plots\nimport matplotlib.pyplot as plt\n",
      "execution_count": 1,
      "outputs": []
    },
    {
      "metadata": {
        "trusted": true,
        "_uuid": "c76413df1793e05f6efd424cb6c079069693837f"
      },
      "cell_type": "code",
      "source": "def startTime():\n    return time()\ndef endTime(s):\n    print (\"Time elapsed {}\".format(time()-s))\n",
      "execution_count": 2,
      "outputs": []
    },
    {
      "metadata": {
        "trusted": true,
        "_uuid": "4ae4bc2ebd32bbdc34beb6f72d6aea646bb5a538"
      },
      "cell_type": "code",
      "source": "df_train = pd.read_csv('../input/train.tsv', sep='\\t')\ndf_test = pd.read_csv('../input/test.tsv', sep='\\t')\n\n# Retain only part of the data \nn_samples = 10000\ndf_train = df_train.iloc[:n_samples,:]\ndf_test = df_test.iloc[:n_samples,:]\nprint(df_train.shape)\nprint(df_test.shape)\n",
      "execution_count": 3,
      "outputs": [
        {
          "output_type": "stream",
          "text": "(10000, 8)\n(10000, 7)\n",
          "name": "stdout"
        }
      ]
    },
    {
      "metadata": {
        "_uuid": "5df3ae3a8c7655023207f51294703b990b3705ad"
      },
      "cell_type": "markdown",
      "source": "## Text Mining : Tf-Idf, NMF, LDA"
    },
    {
      "metadata": {
        "trusted": true,
        "_uuid": "837d63f31c9d0f7825c3fd7ac92fd25d473438fa"
      },
      "cell_type": "code",
      "source": "# Nulls in item description in train or test as tf-idf is not defined on nan\n# lets drop these 4 items\ndf_train = df_train.loc[df_train.item_description == df_train.item_description]\ndf_train = df_train.loc[df_train.name == df_train.name]\nprint(\"Dropped records where item description was nan\")",
      "execution_count": 4,
      "outputs": [
        {
          "output_type": "stream",
          "text": "Dropped records where item description was nan\n",
          "name": "stdout"
        }
      ]
    },
    {
      "metadata": {
        "_uuid": "3c52c97d5743f05ef048d4a2a7509a679b7f0187"
      },
      "cell_type": "markdown",
      "source": "### Define Tokenizer Function"
    },
    {
      "metadata": {
        "trusted": true,
        "_uuid": "2fd6f90862f80955312fc77b83bbd1b867d79b04"
      },
      "cell_type": "code",
      "source": "stop = set(stopwords.words('english'))\ndef tokenize(text):\n    \"\"\"\n    sent_tokenize(): segment text into sentences\n    word_tokenize(): break sentences into words\n    \"\"\"\n    try: \n        regex = re.compile('[' +re.escape(string.punctuation) + '0-9\\\\r\\\\t\\\\n]')\n        text = regex.sub(\" \", text) # remove punctuation\n        \n        tokens_ = [word_tokenize(s) for s in sent_tokenize(text)]\n        tokens = []\n        for token_by_sent in tokens_:\n            tokens += token_by_sent\n        tokens = list(filter(lambda t: t.lower() not in stop, tokens))\n        filtered_tokens = [w for w in tokens if re.search('[a-zA-Z]', w)]\n        filtered_tokens = [w.lower() for w in filtered_tokens if len(w)>=3]\n        \n        return filtered_tokens\n            \n    except TypeError as e: print(text,e)",
      "execution_count": 5,
      "outputs": []
    },
    {
      "metadata": {
        "_uuid": "d0289c059f87e45261deba645a7ac1067c613529"
      },
      "cell_type": "markdown",
      "source": "### TF-IDF feature extraction"
    },
    {
      "metadata": {
        "trusted": true,
        "_uuid": "6d060bfe95f3b1506e371f7fe4c95060b55278f7"
      },
      "cell_type": "code",
      "source": "# Use tf-idf features for NMF.\nprint(\"Extracting tf-idf features for NMF and Normal TFID...\")\ntfidf_vectorizer = TfidfVectorizer(min_df=10,\n                             max_features=180000,\n                             tokenizer=tokenize,\n                             ngram_range=(1, 2))\n\nt0 = startTime()\nfull_tfidf = tfidf_vectorizer.fit_transform(df_train['item_description'].apply(str) + df_test['item_description'].apply(str))\ntrain_tfidf = tfidf_vectorizer.transform(df_train['item_description'].apply(str))\ntest_tfidf = tfidf_vectorizer.transform(df_test['item_description'].apply(str))\nendTime(t0)",
      "execution_count": 6,
      "outputs": [
        {
          "output_type": "stream",
          "text": "Extracting tf-idf features for NMF and Normal TFID...\nTime elapsed 11.950494050979614\n",
          "name": "stdout"
        }
      ]
    },
    {
      "metadata": {
        "_uuid": "3b2061da8c9097083a21acb9a5bdf1c87a94d9a8"
      },
      "cell_type": "markdown",
      "source": "### SVD on Tf-Idf features"
    },
    {
      "metadata": {
        "trusted": true,
        "_uuid": "907e0937d9f60218bf679fc6704e8133f3a4fc2f"
      },
      "cell_type": "code",
      "source": "\nn_comp = 25\nprint(\"SVD on TFID to get Latent Representation : k = {} ...\".format(n_comp))\nt0 = startTime()\nsvd_obj = TruncatedSVD(n_components=n_comp, algorithm='arpack')\nsvd_obj.fit(full_tfidf)\ntrain_svd = pd.DataFrame(svd_obj.transform(train_tfidf))\ntest_svd = pd.DataFrame(svd_obj.transform(test_tfidf))\nendTime(t0)\n\ntrain_svd.columns = ['svd_item_'+str(i) for i in range(n_comp)]\ntest_svd.columns = ['svd_item_'+str(i) for i in range(n_comp)]\ndf_train = pd.concat([df_train, train_svd], axis=1)\ndf_test = pd.concat([df_test, test_svd], axis=1)\n",
      "execution_count": 7,
      "outputs": [
        {
          "output_type": "stream",
          "text": "SVD on TFID to get Latent Representation : k = 25 ...\nTime elapsed 1.0578930377960205\n",
          "name": "stdout"
        }
      ]
    },
    {
      "metadata": {
        "_uuid": "ca9fe7a04719c2e6d5c4f49ab371e1d0016bbfa3"
      },
      "cell_type": "markdown",
      "source": "### LDA feature extraction"
    },
    {
      "metadata": {
        "trusted": true,
        "_uuid": "c97671b66d535b0beb0e6b05cc808defd51b830f"
      },
      "cell_type": "code",
      "source": "# Use tf (raw term count) features for LDA.\nprint(\"Extracting tf features for LDA...\")\ntfidf_vectorizer_lda = CountVectorizer(min_df=4,max_features=180000,\n                     tokenizer=tokenize,ngram_range=(1,2))\nt0 = startTime()\nfull_tfidf_lda = tfidf_vectorizer_lda.fit_transform(df_train['item_description'].apply(str) + df_test['item_description'].apply(str))\ntrain_tfidf_lda = tfidf_vectorizer_lda.transform(df_train['item_description'].apply(str))\ntest_tfidf_lda = tfidf_vectorizer_lda.transform(df_test['item_description'].apply(str))\nendTime(t0)",
      "execution_count": 8,
      "outputs": [
        {
          "output_type": "stream",
          "text": "Extracting tf features for LDA...\nTime elapsed 12.171874523162842\n",
          "name": "stdout"
        }
      ]
    },
    {
      "metadata": {
        "_uuid": "2624a528f65d5dbb5544e1f130b7bf0f3c822887"
      },
      "cell_type": "markdown",
      "source": "* ### NMF - Frobenious Norm,Kullback-Leibler, Divergence, LDA"
    },
    {
      "metadata": {
        "trusted": true,
        "_uuid": "20be6d90843c44f1951109d4a627bf709321d878"
      },
      "cell_type": "code",
      "source": "n_components = 10\nn_top_words = 10\n\n# Fit the NMF model\nprint(\"Fitting the NMF model (Frobenius norm) with tf-idf features, \"\n      \"n_samples=%d ..\"\n      % (n_samples))\nt0 = startTime()\nnmf_frob = NMF(n_components=n_components, random_state=1,\n          alpha=.1, l1_ratio=.5).fit(full_tfidf)\nendTime(t0)\n\n# Fit the NMF model\nprint(\"Fitting the NMF model (generalized Kullback-Leibler divergence) with \"\n      \"tf-idf features, n_samples=%d ..\"\n      % (n_samples))\nt0 = time()\nnmf_kld = NMF(n_components=n_components, random_state=1,\n          beta_loss= 'kullback-leibler', solver='mu', max_iter=1000, alpha=.1,\n          l1_ratio=.5).fit(full_tfidf)\nendTime(t0)\n\nprint(\"Fitting LDA models with tf features, \"\n      \"n_samples=%d and ..\"\n      % (n_samples))\nlda = LatentDirichletAllocation(n_components=n_components, max_iter=20,\n                                learning_method='online',\n                                learning_offset=50.,\n                                random_state=0)\nt0 = startTime()\nlda.fit(full_tfidf_lda)\nendTime(t0)\n",
      "execution_count": 10,
      "outputs": [
        {
          "output_type": "stream",
          "text": "Fitting the NMF model (Frobenius norm) with tf-idf features, n_samples=10000 ..\nTime elapsed 50.55987524986267\nFitting the NMF model (generalized Kullback-Leibler divergence) with tf-idf features, n_samples=10000 ..\nTime elapsed 10.947026491165161\nFitting LDA models with tf features, n_samples=10000 and ..\nTime elapsed 58.79438519477844\n",
          "name": "stdout"
        }
      ]
    },
    {
      "metadata": {
        "trusted": true,
        "collapsed": true,
        "_uuid": "c92337e2474dd34b52dd8cb9246fafb85dad1538"
      },
      "cell_type": "code",
      "source": "train_nmf_frob_df = pd.DataFrame(nmf_frob.transform(train_tfidf))\ntest_nmf_frob_df = pd.DataFrame(nmf_frob.transform(test_tfidf))\n\ntrain_nmf_kld_df = pd.DataFrame(nmf_kld.transform(train_tfidf))\ntest_nmf_kld_df = pd.DataFrame(nmf_kld.transform(test_tfidf))\n\ntrain_lda_df = pd.DataFrame(lda.transform(train_tfidf_lda))\ntest_lda_df = pd.DataFrame(lda.transform(test_tfidf_lda))\n\n\ntrain_nmf_frob_df.columns = ['nmf_frob_'+str(i) for i in range(n_components)]\ntest_nmf_frob_df.columns = ['nmf_frob_'+str(i) for i in range(n_components)]\ndf_train = pd.concat([df_train, train_nmf_frob_df], axis=1)\ndf_test = pd.concat([df_test, test_nmf_frob_df], axis=1)\n\ntrain_nmf_kld_df.columns = ['nmf_kld_'+str(i) for i in range(n_components)]\ntest_nmf_kld_df.columns = ['nmf_kld_'+str(i) for i in range(n_components)]\ndf_train = pd.concat([df_train, train_nmf_kld_df], axis=1)\ndf_test = pd.concat([df_test, test_nmf_kld_df], axis=1)\n\ntrain_lda_df.columns = ['lda_'+str(i) for i in range(n_components)]\ntest_lda_df.columns = ['lda_'+str(i) for i in range(n_components)]\ndf_train = pd.concat([df_train, train_lda_df], axis=1)\ndf_test = pd.concat([df_test, test_lda_df], axis=1)\n\n",
      "execution_count": 36,
      "outputs": []
    },
    {
      "metadata": {
        "trusted": true,
        "_uuid": "21ad65fcddf91e437f93caff8cf936fcf155c919"
      },
      "cell_type": "code",
      "source": "print(df_train.shape)\nprint(df_test.shape)",
      "execution_count": 40,
      "outputs": [
        {
          "output_type": "stream",
          "text": "(10000, 73)\n(10000, 72)\n",
          "name": "stdout"
        }
      ]
    },
    {
      "metadata": {
        "trusted": true,
        "_uuid": "a115c24b37d1d2736ee41f55d76dd6bfa780f58b"
      },
      "cell_type": "code",
      "source": "df_train.head(20)",
      "execution_count": 43,
      "outputs": [
        {
          "output_type": "execute_result",
          "execution_count": 43,
          "data": {
            "text/plain": "    train_id                                    name  item_condition_id  \\\n0          0     MLB Cincinnati Reds T Shirt Size XL                  3   \n1          1        Razer BlackWidow Chroma Keyboard                  3   \n2          2                          AVA-VIV Blouse                  1   \n3          3                   Leather Horse Statues                  1   \n4          4                    24K GOLD plated rose                  1   \n5          5        Bundled items requested for Ruie                  3   \n6          6      Acacia pacific tides santorini top                  3   \n7          7    Girls cheer and tumbling bundle of 7                  3   \n8          8                   Girls Nike Pro shorts                  3   \n9          9  Porcelain clown doll checker pants VTG                  3   \n10        10                         Smashbox primer                  2   \n11        11                  New vs pi k body mists                  1   \n12        12                      Black Skater dress                  2   \n13        13                    Sharpener and eraser                  1   \n14        14      HOLD for Dogs2016 Minnetonka boots                  3   \n15        15             Sephora tarte birthday gift                  1   \n16        16                       Glitter Eyeshadow                  1   \n17        17     New: Baby K'tan active baby carrier                  1   \n18        18     Too Faced Limited \"Merry Macaroons\"                  1   \n19        19          Cream/ Beige Front Cross Shirt                  2   \n\n                                        category_name         brand_name  \\\n0                                   Men/Tops/T-shirts                NaN   \n1   Electronics/Computers & Tablets/Components & P...              Razer   \n2                         Women/Tops & Blouses/Blouse             Target   \n3                  Home/Home Décor/Home Décor Accents                NaN   \n4                             Women/Jewelry/Necklaces                NaN   \n5                                   Women/Other/Other                NaN   \n6                            Women/Swimwear/Two-Piece    Acacia Swimwear   \n7                     Sports & Outdoors/Apparel/Girls              Soffe   \n8                     Sports & Outdoors/Apparel/Girls               Nike   \n9            Vintage & Collectibles/Collectibles/Doll                NaN   \n10                                 Beauty/Makeup/Face           Smashbox   \n11                             Beauty/Fragrance/Women  Victoria's Secret   \n12                     Women/Dresses/Above Knee, Mini                rue   \n13              Other/Office supplies/School Supplies         Scholastic   \n14                                  Women/Shoes/Boots      UGG Australia   \n15                          Beauty/Makeup/Makeup Sets              Tarte   \n16                                 Beauty/Makeup/Eyes         Wet n Wild   \n17                     Kids/Gear/Backpacks & Carriers                NaN   \n18                      Beauty/Makeup/Makeup Palettes          Too Faced   \n19                        Women/Tops & Blouses/Blouse      Anthropologie   \n\n    price  shipping                                   item_description  \\\n0    10.0         1                                 No description yet   \n1    52.0         0  This keyboard is in great condition and works ...   \n2    10.0         1  Adorable top with a hint of lace and a key hol...   \n3    35.0         1  New with tags. Leather horses. Retail for [rm]...   \n4    44.0         0          Complete with certificate of authenticity   \n5    59.0         0  Banana republic bottoms, Candies skirt with ma...   \n6    64.0         0  Size small but straps slightly shortened to fi...   \n7     6.0         1  You get three pairs of Sophie cheer shorts siz...   \n8    19.0         0   Girls Size small Plus green. Three shorts total.   \n9     8.0         0  I realized his pants are on backwards after th...   \n10    8.0         1       0.25 oz Full size is 1oz for [rm] in Sephora   \n11   34.0         0  (5) new vs pink body mists (2.5 oz each) Fresh...   \n12   16.0         0                                Xl, great condition   \n13    4.0         1                                 No description yet   \n14   43.0         0  Authentic. Suede fringe boots. Great condition...   \n15   11.0         1  Brand new. Deluxe travel size products. Contai...   \n16    6.0         1  2 glitter eyeshadows; one in Brass and one in ...   \n17   29.0         1  Brand new in box Size: Medium Color: Coral Ret...   \n18   25.0         1  This AUTHENTIC pallete by Too Faced is brand n...   \n19   27.0         0  Fancy, dressy or casual! Dress it up or down 1...   \n\n    svd_item_0  svd_item_1    ...        lda_0     lda_1     lda_2     lda_3  \\\n0     0.190975    0.944200    ...     0.025000  0.025000  0.025001  0.025000   \n1     0.090106   -0.013857    ...     0.004762  0.004764  0.004762  0.004762   \n2     0.077609   -0.017788    ...     0.005556  0.005556  0.005556  0.005556   \n3     0.184471   -0.050030    ...     0.004545  0.566862  0.004546  0.004547   \n4     0.008449   -0.001556    ...     0.025000  0.025006  0.025009  0.025023   \n5     0.029567   -0.008520    ...     0.007150  0.007144  0.007143  0.007143   \n6     0.156045   -0.027283    ...     0.009091  0.009091  0.009091  0.009091   \n7     0.144615   -0.033441    ...     0.002273  0.092516  0.209413  0.002273   \n8     0.116370   -0.022463    ...     0.009091  0.009091  0.009091  0.009091   \n9     0.044541   -0.009439    ...     0.003572  0.003573  0.003572  0.179279   \n10    0.081177   -0.012342    ...     0.020000  0.020002  0.020003  0.020000   \n11    0.066190   -0.013308    ...     0.004762  0.004762  0.004762  0.004762   \n12    0.199802   -0.030681    ...     0.025000  0.025001  0.025000  0.025000   \n13    0.190975    0.944200    ...     0.025000  0.025000  0.025001  0.025000   \n14    0.128548   -0.024475    ...     0.004348  0.056423  0.004348  0.004348   \n15    0.104926   -0.019973    ...     0.004348  0.004348  0.212604  0.004348   \n16    0.048613   -0.011785    ...     0.014286  0.014289  0.014286  0.014286   \n17    0.142056   -0.029872    ...     0.001786  0.001786  0.001786  0.001786   \n18    0.178458   -0.035017    ...     0.002174  0.076581  0.026448  0.002174   \n19    0.136916   -0.027221    ...     0.003846  0.003847  0.003846  0.003846   \n\n       lda_4     lda_5     lda_6     lda_7     lda_8     lda_9  \n0   0.025000  0.025000  0.025000  0.774998  0.025000  0.025000  \n1   0.004763  0.004762  0.004762  0.309089  0.652812  0.004762  \n2   0.233878  0.005556  0.005556  0.168050  0.559179  0.005558  \n3   0.004547  0.004545  0.004545  0.004547  0.337294  0.064021  \n4   0.025015  0.025000  0.025000  0.025007  0.774939  0.025000  \n5   0.007143  0.007143  0.007143  0.007143  0.935707  0.007143  \n6   0.009091  0.009093  0.009091  0.009091  0.918178  0.009091  \n7   0.002273  0.002273  0.002273  0.002273  0.682160  0.002273  \n8   0.009093  0.009091  0.009092  0.069258  0.858010  0.009091  \n9   0.314520  0.003574  0.003571  0.003573  0.481192  0.003574  \n10  0.819977  0.020003  0.020000  0.020001  0.020013  0.020001  \n11  0.069972  0.004762  0.004762  0.004762  0.004763  0.891931  \n12  0.025001  0.025001  0.025000  0.025001  0.774996  0.025001  \n13  0.025000  0.025000  0.025000  0.774998  0.025000  0.025000  \n14  0.004348  0.004348  0.004348  0.004348  0.908793  0.004348  \n15  0.691820  0.004348  0.004348  0.004348  0.065141  0.004348  \n16  0.699820  0.014287  0.014286  0.014288  0.014288  0.185884  \n17  0.046941  0.001786  0.055530  0.001787  0.665062  0.221751  \n18  0.662230  0.002174  0.002174  0.002174  0.221697  0.002174  \n19  0.112887  0.003846  0.003846  0.003846  0.856340  0.003848  \n\n[20 rows x 73 columns]",
            "text/html": "<div>\n<style>\n    .dataframe thead tr:only-child th {\n        text-align: right;\n    }\n\n    .dataframe thead th {\n        text-align: left;\n    }\n\n    .dataframe tbody tr th {\n        vertical-align: top;\n    }\n</style>\n<table border=\"1\" class=\"dataframe\">\n  <thead>\n    <tr style=\"text-align: right;\">\n      <th></th>\n      <th>train_id</th>\n      <th>name</th>\n      <th>item_condition_id</th>\n      <th>category_name</th>\n      <th>brand_name</th>\n      <th>price</th>\n      <th>shipping</th>\n      <th>item_description</th>\n      <th>svd_item_0</th>\n      <th>svd_item_1</th>\n      <th>...</th>\n      <th>lda_0</th>\n      <th>lda_1</th>\n      <th>lda_2</th>\n      <th>lda_3</th>\n      <th>lda_4</th>\n      <th>lda_5</th>\n      <th>lda_6</th>\n      <th>lda_7</th>\n      <th>lda_8</th>\n      <th>lda_9</th>\n    </tr>\n  </thead>\n  <tbody>\n    <tr>\n      <th>0</th>\n      <td>0</td>\n      <td>MLB Cincinnati Reds T Shirt Size XL</td>\n      <td>3</td>\n      <td>Men/Tops/T-shirts</td>\n      <td>NaN</td>\n      <td>10.0</td>\n      <td>1</td>\n      <td>No description yet</td>\n      <td>0.190975</td>\n      <td>0.944200</td>\n      <td>...</td>\n      <td>0.025000</td>\n      <td>0.025000</td>\n      <td>0.025001</td>\n      <td>0.025000</td>\n      <td>0.025000</td>\n      <td>0.025000</td>\n      <td>0.025000</td>\n      <td>0.774998</td>\n      <td>0.025000</td>\n      <td>0.025000</td>\n    </tr>\n    <tr>\n      <th>1</th>\n      <td>1</td>\n      <td>Razer BlackWidow Chroma Keyboard</td>\n      <td>3</td>\n      <td>Electronics/Computers &amp; Tablets/Components &amp; P...</td>\n      <td>Razer</td>\n      <td>52.0</td>\n      <td>0</td>\n      <td>This keyboard is in great condition and works ...</td>\n      <td>0.090106</td>\n      <td>-0.013857</td>\n      <td>...</td>\n      <td>0.004762</td>\n      <td>0.004764</td>\n      <td>0.004762</td>\n      <td>0.004762</td>\n      <td>0.004763</td>\n      <td>0.004762</td>\n      <td>0.004762</td>\n      <td>0.309089</td>\n      <td>0.652812</td>\n      <td>0.004762</td>\n    </tr>\n    <tr>\n      <th>2</th>\n      <td>2</td>\n      <td>AVA-VIV Blouse</td>\n      <td>1</td>\n      <td>Women/Tops &amp; Blouses/Blouse</td>\n      <td>Target</td>\n      <td>10.0</td>\n      <td>1</td>\n      <td>Adorable top with a hint of lace and a key hol...</td>\n      <td>0.077609</td>\n      <td>-0.017788</td>\n      <td>...</td>\n      <td>0.005556</td>\n      <td>0.005556</td>\n      <td>0.005556</td>\n      <td>0.005556</td>\n      <td>0.233878</td>\n      <td>0.005556</td>\n      <td>0.005556</td>\n      <td>0.168050</td>\n      <td>0.559179</td>\n      <td>0.005558</td>\n    </tr>\n    <tr>\n      <th>3</th>\n      <td>3</td>\n      <td>Leather Horse Statues</td>\n      <td>1</td>\n      <td>Home/Home Décor/Home Décor Accents</td>\n      <td>NaN</td>\n      <td>35.0</td>\n      <td>1</td>\n      <td>New with tags. Leather horses. Retail for [rm]...</td>\n      <td>0.184471</td>\n      <td>-0.050030</td>\n      <td>...</td>\n      <td>0.004545</td>\n      <td>0.566862</td>\n      <td>0.004546</td>\n      <td>0.004547</td>\n      <td>0.004547</td>\n      <td>0.004545</td>\n      <td>0.004545</td>\n      <td>0.004547</td>\n      <td>0.337294</td>\n      <td>0.064021</td>\n    </tr>\n    <tr>\n      <th>4</th>\n      <td>4</td>\n      <td>24K GOLD plated rose</td>\n      <td>1</td>\n      <td>Women/Jewelry/Necklaces</td>\n      <td>NaN</td>\n      <td>44.0</td>\n      <td>0</td>\n      <td>Complete with certificate of authenticity</td>\n      <td>0.008449</td>\n      <td>-0.001556</td>\n      <td>...</td>\n      <td>0.025000</td>\n      <td>0.025006</td>\n      <td>0.025009</td>\n      <td>0.025023</td>\n      <td>0.025015</td>\n      <td>0.025000</td>\n      <td>0.025000</td>\n      <td>0.025007</td>\n      <td>0.774939</td>\n      <td>0.025000</td>\n    </tr>\n    <tr>\n      <th>5</th>\n      <td>5</td>\n      <td>Bundled items requested for Ruie</td>\n      <td>3</td>\n      <td>Women/Other/Other</td>\n      <td>NaN</td>\n      <td>59.0</td>\n      <td>0</td>\n      <td>Banana republic bottoms, Candies skirt with ma...</td>\n      <td>0.029567</td>\n      <td>-0.008520</td>\n      <td>...</td>\n      <td>0.007150</td>\n      <td>0.007144</td>\n      <td>0.007143</td>\n      <td>0.007143</td>\n      <td>0.007143</td>\n      <td>0.007143</td>\n      <td>0.007143</td>\n      <td>0.007143</td>\n      <td>0.935707</td>\n      <td>0.007143</td>\n    </tr>\n    <tr>\n      <th>6</th>\n      <td>6</td>\n      <td>Acacia pacific tides santorini top</td>\n      <td>3</td>\n      <td>Women/Swimwear/Two-Piece</td>\n      <td>Acacia Swimwear</td>\n      <td>64.0</td>\n      <td>0</td>\n      <td>Size small but straps slightly shortened to fi...</td>\n      <td>0.156045</td>\n      <td>-0.027283</td>\n      <td>...</td>\n      <td>0.009091</td>\n      <td>0.009091</td>\n      <td>0.009091</td>\n      <td>0.009091</td>\n      <td>0.009091</td>\n      <td>0.009093</td>\n      <td>0.009091</td>\n      <td>0.009091</td>\n      <td>0.918178</td>\n      <td>0.009091</td>\n    </tr>\n    <tr>\n      <th>7</th>\n      <td>7</td>\n      <td>Girls cheer and tumbling bundle of 7</td>\n      <td>3</td>\n      <td>Sports &amp; Outdoors/Apparel/Girls</td>\n      <td>Soffe</td>\n      <td>6.0</td>\n      <td>1</td>\n      <td>You get three pairs of Sophie cheer shorts siz...</td>\n      <td>0.144615</td>\n      <td>-0.033441</td>\n      <td>...</td>\n      <td>0.002273</td>\n      <td>0.092516</td>\n      <td>0.209413</td>\n      <td>0.002273</td>\n      <td>0.002273</td>\n      <td>0.002273</td>\n      <td>0.002273</td>\n      <td>0.002273</td>\n      <td>0.682160</td>\n      <td>0.002273</td>\n    </tr>\n    <tr>\n      <th>8</th>\n      <td>8</td>\n      <td>Girls Nike Pro shorts</td>\n      <td>3</td>\n      <td>Sports &amp; Outdoors/Apparel/Girls</td>\n      <td>Nike</td>\n      <td>19.0</td>\n      <td>0</td>\n      <td>Girls Size small Plus green. Three shorts total.</td>\n      <td>0.116370</td>\n      <td>-0.022463</td>\n      <td>...</td>\n      <td>0.009091</td>\n      <td>0.009091</td>\n      <td>0.009091</td>\n      <td>0.009091</td>\n      <td>0.009093</td>\n      <td>0.009091</td>\n      <td>0.009092</td>\n      <td>0.069258</td>\n      <td>0.858010</td>\n      <td>0.009091</td>\n    </tr>\n    <tr>\n      <th>9</th>\n      <td>9</td>\n      <td>Porcelain clown doll checker pants VTG</td>\n      <td>3</td>\n      <td>Vintage &amp; Collectibles/Collectibles/Doll</td>\n      <td>NaN</td>\n      <td>8.0</td>\n      <td>0</td>\n      <td>I realized his pants are on backwards after th...</td>\n      <td>0.044541</td>\n      <td>-0.009439</td>\n      <td>...</td>\n      <td>0.003572</td>\n      <td>0.003573</td>\n      <td>0.003572</td>\n      <td>0.179279</td>\n      <td>0.314520</td>\n      <td>0.003574</td>\n      <td>0.003571</td>\n      <td>0.003573</td>\n      <td>0.481192</td>\n      <td>0.003574</td>\n    </tr>\n    <tr>\n      <th>10</th>\n      <td>10</td>\n      <td>Smashbox primer</td>\n      <td>2</td>\n      <td>Beauty/Makeup/Face</td>\n      <td>Smashbox</td>\n      <td>8.0</td>\n      <td>1</td>\n      <td>0.25 oz Full size is 1oz for [rm] in Sephora</td>\n      <td>0.081177</td>\n      <td>-0.012342</td>\n      <td>...</td>\n      <td>0.020000</td>\n      <td>0.020002</td>\n      <td>0.020003</td>\n      <td>0.020000</td>\n      <td>0.819977</td>\n      <td>0.020003</td>\n      <td>0.020000</td>\n      <td>0.020001</td>\n      <td>0.020013</td>\n      <td>0.020001</td>\n    </tr>\n    <tr>\n      <th>11</th>\n      <td>11</td>\n      <td>New vs pi k body mists</td>\n      <td>1</td>\n      <td>Beauty/Fragrance/Women</td>\n      <td>Victoria's Secret</td>\n      <td>34.0</td>\n      <td>0</td>\n      <td>(5) new vs pink body mists (2.5 oz each) Fresh...</td>\n      <td>0.066190</td>\n      <td>-0.013308</td>\n      <td>...</td>\n      <td>0.004762</td>\n      <td>0.004762</td>\n      <td>0.004762</td>\n      <td>0.004762</td>\n      <td>0.069972</td>\n      <td>0.004762</td>\n      <td>0.004762</td>\n      <td>0.004762</td>\n      <td>0.004763</td>\n      <td>0.891931</td>\n    </tr>\n    <tr>\n      <th>12</th>\n      <td>12</td>\n      <td>Black Skater dress</td>\n      <td>2</td>\n      <td>Women/Dresses/Above Knee, Mini</td>\n      <td>rue</td>\n      <td>16.0</td>\n      <td>0</td>\n      <td>Xl, great condition</td>\n      <td>0.199802</td>\n      <td>-0.030681</td>\n      <td>...</td>\n      <td>0.025000</td>\n      <td>0.025001</td>\n      <td>0.025000</td>\n      <td>0.025000</td>\n      <td>0.025001</td>\n      <td>0.025001</td>\n      <td>0.025000</td>\n      <td>0.025001</td>\n      <td>0.774996</td>\n      <td>0.025001</td>\n    </tr>\n    <tr>\n      <th>13</th>\n      <td>13</td>\n      <td>Sharpener and eraser</td>\n      <td>1</td>\n      <td>Other/Office supplies/School Supplies</td>\n      <td>Scholastic</td>\n      <td>4.0</td>\n      <td>1</td>\n      <td>No description yet</td>\n      <td>0.190975</td>\n      <td>0.944200</td>\n      <td>...</td>\n      <td>0.025000</td>\n      <td>0.025000</td>\n      <td>0.025001</td>\n      <td>0.025000</td>\n      <td>0.025000</td>\n      <td>0.025000</td>\n      <td>0.025000</td>\n      <td>0.774998</td>\n      <td>0.025000</td>\n      <td>0.025000</td>\n    </tr>\n    <tr>\n      <th>14</th>\n      <td>14</td>\n      <td>HOLD for Dogs2016 Minnetonka boots</td>\n      <td>3</td>\n      <td>Women/Shoes/Boots</td>\n      <td>UGG Australia</td>\n      <td>43.0</td>\n      <td>0</td>\n      <td>Authentic. Suede fringe boots. Great condition...</td>\n      <td>0.128548</td>\n      <td>-0.024475</td>\n      <td>...</td>\n      <td>0.004348</td>\n      <td>0.056423</td>\n      <td>0.004348</td>\n      <td>0.004348</td>\n      <td>0.004348</td>\n      <td>0.004348</td>\n      <td>0.004348</td>\n      <td>0.004348</td>\n      <td>0.908793</td>\n      <td>0.004348</td>\n    </tr>\n    <tr>\n      <th>15</th>\n      <td>15</td>\n      <td>Sephora tarte birthday gift</td>\n      <td>1</td>\n      <td>Beauty/Makeup/Makeup Sets</td>\n      <td>Tarte</td>\n      <td>11.0</td>\n      <td>1</td>\n      <td>Brand new. Deluxe travel size products. Contai...</td>\n      <td>0.104926</td>\n      <td>-0.019973</td>\n      <td>...</td>\n      <td>0.004348</td>\n      <td>0.004348</td>\n      <td>0.212604</td>\n      <td>0.004348</td>\n      <td>0.691820</td>\n      <td>0.004348</td>\n      <td>0.004348</td>\n      <td>0.004348</td>\n      <td>0.065141</td>\n      <td>0.004348</td>\n    </tr>\n    <tr>\n      <th>16</th>\n      <td>16</td>\n      <td>Glitter Eyeshadow</td>\n      <td>1</td>\n      <td>Beauty/Makeup/Eyes</td>\n      <td>Wet n Wild</td>\n      <td>6.0</td>\n      <td>1</td>\n      <td>2 glitter eyeshadows; one in Brass and one in ...</td>\n      <td>0.048613</td>\n      <td>-0.011785</td>\n      <td>...</td>\n      <td>0.014286</td>\n      <td>0.014289</td>\n      <td>0.014286</td>\n      <td>0.014286</td>\n      <td>0.699820</td>\n      <td>0.014287</td>\n      <td>0.014286</td>\n      <td>0.014288</td>\n      <td>0.014288</td>\n      <td>0.185884</td>\n    </tr>\n    <tr>\n      <th>17</th>\n      <td>17</td>\n      <td>New: Baby K'tan active baby carrier</td>\n      <td>1</td>\n      <td>Kids/Gear/Backpacks &amp; Carriers</td>\n      <td>NaN</td>\n      <td>29.0</td>\n      <td>1</td>\n      <td>Brand new in box Size: Medium Color: Coral Ret...</td>\n      <td>0.142056</td>\n      <td>-0.029872</td>\n      <td>...</td>\n      <td>0.001786</td>\n      <td>0.001786</td>\n      <td>0.001786</td>\n      <td>0.001786</td>\n      <td>0.046941</td>\n      <td>0.001786</td>\n      <td>0.055530</td>\n      <td>0.001787</td>\n      <td>0.665062</td>\n      <td>0.221751</td>\n    </tr>\n    <tr>\n      <th>18</th>\n      <td>18</td>\n      <td>Too Faced Limited \"Merry Macaroons\"</td>\n      <td>1</td>\n      <td>Beauty/Makeup/Makeup Palettes</td>\n      <td>Too Faced</td>\n      <td>25.0</td>\n      <td>1</td>\n      <td>This AUTHENTIC pallete by Too Faced is brand n...</td>\n      <td>0.178458</td>\n      <td>-0.035017</td>\n      <td>...</td>\n      <td>0.002174</td>\n      <td>0.076581</td>\n      <td>0.026448</td>\n      <td>0.002174</td>\n      <td>0.662230</td>\n      <td>0.002174</td>\n      <td>0.002174</td>\n      <td>0.002174</td>\n      <td>0.221697</td>\n      <td>0.002174</td>\n    </tr>\n    <tr>\n      <th>19</th>\n      <td>19</td>\n      <td>Cream/ Beige Front Cross Shirt</td>\n      <td>2</td>\n      <td>Women/Tops &amp; Blouses/Blouse</td>\n      <td>Anthropologie</td>\n      <td>27.0</td>\n      <td>0</td>\n      <td>Fancy, dressy or casual! Dress it up or down 1...</td>\n      <td>0.136916</td>\n      <td>-0.027221</td>\n      <td>...</td>\n      <td>0.003846</td>\n      <td>0.003847</td>\n      <td>0.003846</td>\n      <td>0.003846</td>\n      <td>0.112887</td>\n      <td>0.003846</td>\n      <td>0.003846</td>\n      <td>0.003846</td>\n      <td>0.856340</td>\n      <td>0.003848</td>\n    </tr>\n  </tbody>\n</table>\n<p>20 rows × 73 columns</p>\n</div>"
          },
          "metadata": {}
        }
      ]
    },
    {
      "metadata": {
        "trusted": true,
        "collapsed": true,
        "_uuid": "c10d6fe7e6e0ac009931bdc82902c46e21424633"
      },
      "cell_type": "code",
      "source": "",
      "execution_count": null,
      "outputs": []
    }
  ],
  "metadata": {
    "language_info": {
      "name": "python",
      "version": "3.6.3",
      "mimetype": "text/x-python",
      "codemirror_mode": {
        "name": "ipython",
        "version": 3
      },
      "pygments_lexer": "ipython3",
      "nbconvert_exporter": "python",
      "file_extension": ".py"
    },
    "kernelspec": {
      "display_name": "Python 3",
      "language": "python",
      "name": "python3"
    }
  },
  "nbformat": 4,
  "nbformat_minor": 1
}