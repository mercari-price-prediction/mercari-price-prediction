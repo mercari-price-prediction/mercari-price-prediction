{
 "cells": [
  {
   "cell_type": "markdown",
   "metadata": {
    "_uuid": "d04333e758f8716e4768de1b82ba26c8ed038e44"
   },
   "source": [
    "## Mercari Price Suggestion Challenge\n",
    "\n",
    "The objective of this challenge is to build an algorithm that automatically suggests the right product prices on Mercari. The training data consists of user-inputted text descriptions of their products, including details like product category name, brand name, and item condition"
   ]
  },
  {
   "cell_type": "code",
   "execution_count": 35,
   "metadata": {
    "_cell_guid": "7dfaf2a8-87e1-4b94-828c-7cb4b1e15729",
    "_uuid": "36a7b6e31e04db1369b9e1cbff8e695758a19009"
   },
   "outputs": [],
   "source": [
    "# Import required libraries\n",
    "import numpy as np\n",
    "import pandas as pd\n",
    "import string\n",
    "import re\n",
    "import pickle\n",
    "import gc\n",
    "import math\n",
    "\n",
    "# Text mining \n",
    "import nltk\n",
    "from nltk.stem.porter import *\n",
    "from nltk.tokenize import word_tokenize, sent_tokenize\n",
    "from nltk.corpus import stopwords\n",
    "from sklearn.feature_extraction.text import TfidfVectorizer, CountVectorizer\n",
    "from sklearn.decomposition import NMF, LatentDirichletAllocation\n",
    "from sklearn.feature_extraction import stop_words\n",
    "from sklearn.decomposition import TruncatedSVD\n",
    "from sklearn.preprocessing import LabelBinarizer\n",
    "from scipy.sparse import csr_matrix, hstack\n",
    "from sklearn.linear_model import Ridge, Lasso\n",
    "from sklearn.model_selection import train_test_split, cross_val_score\n",
    "from sklearn.feature_extraction.text import TfidfTransformer\n",
    "import xgboost as xgb\n",
    "import lightgbm as lgb\n",
    "from sklearn.metrics import r2_score\n",
    "# Time \n",
    "from time import time\n",
    "\n",
    "#Plots\n",
    "import matplotlib.pyplot as plt"
   ]
  },
  {
   "cell_type": "code",
   "execution_count": 41,
   "metadata": {
    "_uuid": "c76413df1793e05f6efd424cb6c079069693837f",
    "collapsed": true
   },
   "outputs": [],
   "source": [
    "def startTime():\n",
    "    return time()\n",
    "def endTime(s):\n",
    "    print (\"Time elapsed {}\".format(time()-s))\n",
    "def printSep():\n",
    "    print \"*\"*40\n",
    "    print \"\""
   ]
  },
  {
   "cell_type": "code",
   "execution_count": 56,
   "metadata": {
    "_uuid": "4ae4bc2ebd32bbdc34beb6f72d6aea646bb5a538"
   },
   "outputs": [
    {
     "name": "stdout",
     "output_type": "stream",
     "text": [
      "(1482535, 8)\n",
      "(693359, 7)\n"
     ]
    }
   ],
   "source": [
    "#df_train = pd.read_csv('../input/train.tsv', sep='\\t')\n",
    "#df_test = pd.read_csv('../input/test.tsv', sep='\\t')\n",
    "\n",
    "df_train = pd.read_csv('../../../../data/train.tsv', sep='\\t')\n",
    "#df_test = pd.read_csv('../../../../data/test.tsv', sep='\\t')\n",
    "n_samples = 100000\n",
    "df_test = df_train[n_samples:n_samples+40000]\n",
    "df_train = df_train[:n_samples]\n",
    "\n",
    "print df_train.shape\n",
    "print df_test.shape"
   ]
  },
  {
   "cell_type": "code",
   "execution_count": 6,
   "metadata": {
    "_uuid": "837d63f31c9d0f7825c3fd7ac92fd25d473438fa"
   },
   "outputs": [
    {
     "name": "stdout",
     "output_type": "stream",
     "text": [
      "Dropped records where item description was nan\n"
     ]
    }
   ],
   "source": [
    "# Nulls in item description in train or test as tf-idf is not defined on nan\n",
    "# lets drop these 4 items\n",
    "df_train = df_train.loc[df_train.item_description == df_train.item_description]\n",
    "df_train = df_train.loc[df_train.name == df_train.name]\n",
    "print(\"Dropped records where item description was nan\")"
   ]
  },
  {
   "cell_type": "markdown",
   "metadata": {},
   "source": [
    "### Creating Categorical Features"
   ]
  },
  {
   "cell_type": "code",
   "execution_count": 7,
   "metadata": {
    "collapsed": true
   },
   "outputs": [],
   "source": [
    "NUM_BRANDS = 4000\n",
    "NUM_CATEGORIES = 1000\n",
    "NAME_MIN_DF = 10\n",
    "\n",
    "def handle_missing_inplace(dataset):\n",
    "    dataset['category_name'].fillna(value='missing', inplace=True)\n",
    "    dataset['brand_name'].fillna(value='missing', inplace=True)\n",
    "    # dataset['item_description'].fillna(value='missing', inplace=True)\n",
    "\n",
    "\n",
    "def cutting(dataset):\n",
    "    pop_brand = dataset['brand_name'].value_counts().loc[lambda x: x.index != 'missing'].index[:NUM_BRANDS]\n",
    "    dataset.loc[~dataset['brand_name'].isin(pop_brand), 'brand_name'] = 'missing'\n",
    "    pop_category = dataset['category_name'].value_counts().loc[lambda x: x.index != 'missing'].index[:NUM_CATEGORIES]\n",
    "    dataset.loc[~dataset['category_name'].isin(pop_category), 'category_name'] = 'missing'\n",
    "\n",
    "\n",
    "def to_categorical(dataset):\n",
    "    dataset['category_name'] = dataset['category_name'].astype('category')\n",
    "    dataset['brand_name'] = dataset['brand_name'].astype('category')\n",
    "    dataset['item_condition_id'] = dataset['item_condition_id'].astype('category')\n",
    "    dataset['shipping'] = dataset['shipping'].astype('category')"
   ]
  },
  {
   "cell_type": "code",
   "execution_count": 8,
   "metadata": {},
   "outputs": [
    {
     "name": "stdout",
     "output_type": "stream",
     "text": [
      "Time elapsed 0.168015956879\n"
     ]
    }
   ],
   "source": [
    "nrow_train = df_train.shape[0]\n",
    "y = np.log1p(df_train[\"price\"])\n",
    "y_test = np.log1p((df_test[\"price\"]).reset_index()[\"price\"])\n",
    "merge = pd.concat([df_train, df_test])\n",
    "gc.collect()\n",
    "\n",
    "s = startTime()\n",
    "handle_missing_inplace(merge)\n",
    "cutting(merge)\n",
    "to_categorical(merge)\n",
    "endTime(s)"
   ]
  },
  {
   "cell_type": "code",
   "execution_count": 9,
   "metadata": {},
   "outputs": [
    {
     "name": "stdout",
     "output_type": "stream",
     "text": [
      "Time elapsed 1.43288588524\n"
     ]
    }
   ],
   "source": [
    "s = startTime()\n",
    "cv = CountVectorizer(min_df=NAME_MIN_DF)\n",
    "X_name = cv.fit_transform(merge['name'])\n",
    "endTime(s)"
   ]
  },
  {
   "cell_type": "code",
   "execution_count": 10,
   "metadata": {},
   "outputs": [
    {
     "name": "stdout",
     "output_type": "stream",
     "text": [
      "Time elapsed 1.18913698196\n"
     ]
    }
   ],
   "source": [
    "s = startTime()\n",
    "cv = CountVectorizer()\n",
    "X_category = cv.fit_transform(merge['category_name'])\n",
    "endTime(s)"
   ]
  },
  {
   "cell_type": "code",
   "execution_count": 11,
   "metadata": {},
   "outputs": [
    {
     "name": "stdout",
     "output_type": "stream",
     "text": [
      "Time elapsed 0.425969839096\n"
     ]
    }
   ],
   "source": [
    "s = startTime()\n",
    "lb = LabelBinarizer(sparse_output=True)\n",
    "X_brand = lb.fit_transform(merge['brand_name'])\n",
    "endTime(s)"
   ]
  },
  {
   "cell_type": "code",
   "execution_count": 12,
   "metadata": {},
   "outputs": [
    {
     "name": "stdout",
     "output_type": "stream",
     "text": [
      "Time elapsed 0.615557193756\n"
     ]
    }
   ],
   "source": [
    "s = startTime()\n",
    "X_dummies = csr_matrix(pd.get_dummies(merge[['item_condition_id', 'shipping']],\n",
    "                                          sparse=True).values)\n",
    "endTime(s)"
   ]
  },
  {
   "cell_type": "code",
   "execution_count": 13,
   "metadata": {
    "collapsed": true
   },
   "outputs": [],
   "source": [
    "sparse_merge = hstack((X_dummies, X_brand, X_category, X_name)).tocsr().astype('float32')"
   ]
  },
  {
   "cell_type": "markdown",
   "metadata": {},
   "source": [
    "### Using Base features for regression"
   ]
  },
  {
   "cell_type": "code",
   "execution_count": 14,
   "metadata": {
    "_uuid": "a115c24b37d1d2736ee41f55d76dd6bfa780f58b",
    "collapsed": true
   },
   "outputs": [],
   "source": [
    "X_train_cat = sparse_merge[:nrow_train]\n",
    "X_test_cat = sparse_merge[nrow_train:]"
   ]
  },
  {
   "cell_type": "code",
   "execution_count": 15,
   "metadata": {
    "collapsed": true
   },
   "outputs": [],
   "source": [
    "def calcMse(yTrue, yPred):\n",
    "    s = 0\n",
    "    for i in range(len(yTrue)):\n",
    "        s += (yTrue[i]-yPred[i])**2\n",
    "    return math.sqrt(s*1.0/len(yTrue))"
   ]
  },
  {
   "cell_type": "code",
   "execution_count": 30,
   "metadata": {
    "_uuid": "c10d6fe7e6e0ac009931bdc82902c46e21424633"
   },
   "outputs": [],
   "source": [
    "def lgbm(X_train_cat,y,X_test_cat,y_test):\n",
    "        train_X, valid_X, train_y, valid_y = train_test_split(X_train_cat, y, test_size = 0.1, random_state = 144) \n",
    "        d_train = lgb.Dataset(train_X, label=train_y, max_bin=8192)\n",
    "        d_valid = lgb.Dataset(valid_X, label=valid_y, max_bin=8192)\n",
    "        watchlist = [d_train, d_valid]\n",
    "        params = {\n",
    "                'learning_rate': 0.75,\n",
    "                'application': 'regression',\n",
    "                'max_depth': 3,\n",
    "                'num_leaves': 50,\n",
    "                'verbosity': -1,\n",
    "                'metric': 'RMSE',\n",
    "        }\n",
    "\n",
    "        model = lgb.train(params, train_set=d_train, num_boost_round=3600, valid_sets=watchlist, \\\n",
    "        early_stopping_rounds=50, verbose_eval=100) \n",
    "        y_pred = model.predict(X_test_cat)\n",
    "\n",
    "        print  'rmse value is ' + str(calcMse(y_test,y_pred))\n",
    "        print  ' r^2 value is ' + str(r2_score(y_test, y_pred))\n",
    "        print  ' correlation coef is ' + str(np.corrcoef(y_test, y_pred)[0,1])\n",
    "        return y_pred"
   ]
  },
  {
   "cell_type": "markdown",
   "metadata": {},
   "source": [
    "### Base features + ridge model"
   ]
  },
  {
   "cell_type": "code",
   "execution_count": 31,
   "metadata": {},
   "outputs": [],
   "source": [
    "def ridgeReg(X_train_cat,y,X_test_cat,y_test):\n",
    "        s = startTime()\n",
    "        model = Ridge(solver=\"sag\", fit_intercept=True, random_state=205)\n",
    "        model.fit(X_train_cat, y)\n",
    "        endTime(s)\n",
    "        s = startTime()\n",
    "        y_pred = model.predict(X=X_test_cat)\n",
    "        endTime(s)\n",
    "\n",
    "        print  'rmse value is ' + str(calcMse(y_test,y_pred))\n",
    "        print  ' r^2 value is ' + str(r2_score(y_test, y_pred))\n",
    "        print  ' correlation coef is ' + str(np.corrcoef(y_test, y_pred)[0,1])\n",
    "        return y_pred"
   ]
  },
  {
   "cell_type": "markdown",
   "metadata": {},
   "source": [
    "### Base features + xgboost model"
   ]
  },
  {
   "cell_type": "code",
   "execution_count": 32,
   "metadata": {},
   "outputs": [],
   "source": [
    "def XgBoost(X_train_cat,y,X_test_cat,y_test):\n",
    "        s = startTime()\n",
    "        train_X, valid_X, train_y, valid_y = train_test_split(X_train_cat, y, test_size = 0.1, random_state = 144) \n",
    "        dtrain = xgb.DMatrix(train_X, train_y)\n",
    "        dvalid  = xgb.DMatrix(valid_X,  valid_y)\n",
    "        watchlist = [(dtrain, 'train'), (dvalid, 'valid')]\n",
    "        params = {'min_child_weight': 20, 'eta': 0.015, 'colsample_bytree': 0.48, 'max_depth': 14,\n",
    "                    'subsample': 0.91, 'lambda': 2.01, 'nthread': 4, 'booster' : 'gbtree', 'silent': 1,\n",
    "                    'eval_metric': 'rmse', 'objective': 'reg:linear','tree_method': 'auto'}\n",
    "        model = xgb.train(params, dtrain, 1000, watchlist, verbose_eval=10, early_stopping_rounds=20)\n",
    "        y_pred = model.predict(xgb.DMatrix(X_test_cat), ntree_limit=model.best_ntree_limit)\n",
    "        endTime(s)\n",
    "\n",
    "        print  'rmse value is ' + str(calcMse(y_test,y_pred))\n",
    "        print  ' r^2 value is ' + str(r2_score(y_test, y_pred))\n",
    "        print  ' correlation coef is ' + str(np.corrcoef(y_test, y_pred)[0,1])\n",
    "        return y_pred"
   ]
  },
  {
   "cell_type": "markdown",
   "metadata": {},
   "source": [
    "### Lgbm + ridge, basic features"
   ]
  },
  {
   "cell_type": "code",
   "execution_count": 33,
   "metadata": {
    "collapsed": true
   },
   "outputs": [],
   "source": [
    "def ensemble(y1,y2,w1,w2,y_test):\n",
    "    y_pred = w1*y1 + w2*y2\n",
    "    print  'rmse value is ' + str(calcMse(y_test,y_pred))\n",
    "    print  ' r^2 value is ' + str(r2_score(y_test, y_pred))\n",
    "    print  ' correlation coef is ' + str(np.corrcoef(y_test, y_pred)[0,1])\n",
    "    return y_pred"
   ]
  },
  {
   "cell_type": "code",
   "execution_count": 36,
   "metadata": {},
   "outputs": [
    {
     "name": "stdout",
     "output_type": "stream",
     "text": [
      "Training until validation scores don't improve for 50 rounds.\n",
      "[100]\ttraining's rmse: 0.553597\tvalid_1's rmse: 0.555354\n",
      "[200]\ttraining's rmse: 0.531934\tvalid_1's rmse: 0.538467\n",
      "[300]\ttraining's rmse: 0.521822\tvalid_1's rmse: 0.532646\n",
      "[400]\ttraining's rmse: 0.514428\tvalid_1's rmse: 0.529972\n",
      "[500]\ttraining's rmse: 0.508105\tvalid_1's rmse: 0.527372\n",
      "[600]\ttraining's rmse: 0.504054\tvalid_1's rmse: 0.527019\n",
      "Early stopping, best iteration is:\n",
      "[566]\ttraining's rmse: 0.505406\tvalid_1's rmse: 0.526751\n",
      "rmse value is 0.526555531359\n",
      " r^2 value is 0.500779241275\n",
      " correlation coef is 0.707898793313\n",
      "Time elapsed 3.99578905106\n",
      "Time elapsed 0.00165700912476\n",
      "rmse value is 0.525341760868\n",
      " r^2 value is 0.503078110092\n",
      " correlation coef is 0.710372567038\n",
      "[0]\ttrain-rmse:2.55259\tvalid-rmse:2.54817\n",
      "Multiple eval metrics have been passed: 'valid-rmse' will be used for early stopping.\n",
      "\n",
      "Will train until valid-rmse hasn't improved in 20 rounds.\n",
      "[10]\ttrain-rmse:2.22032\tvalid-rmse:2.21596\n",
      "[20]\ttrain-rmse:1.93773\tvalid-rmse:1.93335\n",
      "[30]\ttrain-rmse:1.69802\tvalid-rmse:1.69358\n",
      "[40]\ttrain-rmse:1.49542\tvalid-rmse:1.49097\n",
      "[50]\ttrain-rmse:1.32481\tvalid-rmse:1.32046\n",
      "[60]\ttrain-rmse:1.18238\tvalid-rmse:1.17824\n",
      "[70]\ttrain-rmse:1.06398\tvalid-rmse:1.06016\n",
      "[80]\ttrain-rmse:0.965854\tvalid-rmse:0.962142\n",
      "[90]\ttrain-rmse:0.886048\tvalid-rmse:0.882513\n",
      "[100]\ttrain-rmse:0.82102\tvalid-rmse:0.817738\n",
      "[110]\ttrain-rmse:0.76862\tvalid-rmse:0.765846\n",
      "[120]\ttrain-rmse:0.726705\tvalid-rmse:0.724344\n",
      "[130]\ttrain-rmse:0.693481\tvalid-rmse:0.691678\n",
      "[140]\ttrain-rmse:0.666977\tvalid-rmse:0.665703\n",
      "[150]\ttrain-rmse:0.646243\tvalid-rmse:0.645335\n",
      "[160]\ttrain-rmse:0.629865\tvalid-rmse:0.629361\n",
      "[170]\ttrain-rmse:0.61705\tvalid-rmse:0.617\n",
      "[180]\ttrain-rmse:0.606926\tvalid-rmse:0.607167\n",
      "[190]\ttrain-rmse:0.598864\tvalid-rmse:0.599436\n",
      "[200]\ttrain-rmse:0.592521\tvalid-rmse:0.593251\n",
      "[210]\ttrain-rmse:0.587506\tvalid-rmse:0.588371\n",
      "[220]\ttrain-rmse:0.583373\tvalid-rmse:0.584489\n",
      "[230]\ttrain-rmse:0.579914\tvalid-rmse:0.58122\n",
      "[240]\ttrain-rmse:0.576968\tvalid-rmse:0.578511\n",
      "[250]\ttrain-rmse:0.574609\tvalid-rmse:0.576245\n",
      "[260]\ttrain-rmse:0.572533\tvalid-rmse:0.574279\n",
      "[270]\ttrain-rmse:0.570639\tvalid-rmse:0.572568\n",
      "[280]\ttrain-rmse:0.56908\tvalid-rmse:0.57115\n",
      "[290]\ttrain-rmse:0.567692\tvalid-rmse:0.569894\n",
      "[300]\ttrain-rmse:0.566344\tvalid-rmse:0.568689\n",
      "[310]\ttrain-rmse:0.565067\tvalid-rmse:0.567482\n",
      "[320]\ttrain-rmse:0.564039\tvalid-rmse:0.566523\n",
      "[330]\ttrain-rmse:0.563097\tvalid-rmse:0.565715\n",
      "[340]\ttrain-rmse:0.562122\tvalid-rmse:0.564907\n",
      "[350]\ttrain-rmse:0.561172\tvalid-rmse:0.56406\n",
      "[360]\ttrain-rmse:0.560325\tvalid-rmse:0.563408\n",
      "[370]\ttrain-rmse:0.559365\tvalid-rmse:0.562604\n",
      "[380]\ttrain-rmse:0.558642\tvalid-rmse:0.562006\n",
      "[390]\ttrain-rmse:0.557886\tvalid-rmse:0.561374\n",
      "[400]\ttrain-rmse:0.557115\tvalid-rmse:0.560756\n",
      "[410]\ttrain-rmse:0.556376\tvalid-rmse:0.560102\n",
      "[420]\ttrain-rmse:0.555695\tvalid-rmse:0.559498\n",
      "[430]\ttrain-rmse:0.555037\tvalid-rmse:0.558981\n",
      "[440]\ttrain-rmse:0.554274\tvalid-rmse:0.558336\n",
      "[450]\ttrain-rmse:0.55362\tvalid-rmse:0.557773\n",
      "[460]\ttrain-rmse:0.552833\tvalid-rmse:0.557191\n",
      "[470]\ttrain-rmse:0.552141\tvalid-rmse:0.556641\n",
      "[480]\ttrain-rmse:0.551516\tvalid-rmse:0.556108\n",
      "[490]\ttrain-rmse:0.550907\tvalid-rmse:0.55562\n",
      "[500]\ttrain-rmse:0.550301\tvalid-rmse:0.555102\n",
      "[510]\ttrain-rmse:0.549651\tvalid-rmse:0.554497\n",
      "[520]\ttrain-rmse:0.549077\tvalid-rmse:0.554055\n",
      "[530]\ttrain-rmse:0.548429\tvalid-rmse:0.553511\n",
      "[540]\ttrain-rmse:0.547957\tvalid-rmse:0.553161\n",
      "[550]\ttrain-rmse:0.547393\tvalid-rmse:0.552698\n",
      "[560]\ttrain-rmse:0.546857\tvalid-rmse:0.552245\n",
      "[570]\ttrain-rmse:0.546357\tvalid-rmse:0.55189\n",
      "[580]\ttrain-rmse:0.545803\tvalid-rmse:0.551438\n",
      "[590]\ttrain-rmse:0.545352\tvalid-rmse:0.551104\n",
      "[600]\ttrain-rmse:0.544874\tvalid-rmse:0.55072\n",
      "[610]\ttrain-rmse:0.544454\tvalid-rmse:0.550381\n",
      "[620]\ttrain-rmse:0.543998\tvalid-rmse:0.550053\n",
      "[630]\ttrain-rmse:0.543452\tvalid-rmse:0.549589\n",
      "[640]\ttrain-rmse:0.542957\tvalid-rmse:0.549152\n",
      "[650]\ttrain-rmse:0.542476\tvalid-rmse:0.548741\n",
      "[660]\ttrain-rmse:0.542043\tvalid-rmse:0.548402\n",
      "[670]\ttrain-rmse:0.541595\tvalid-rmse:0.548044\n",
      "[680]\ttrain-rmse:0.541109\tvalid-rmse:0.547664\n",
      "[690]\ttrain-rmse:0.540713\tvalid-rmse:0.54731\n",
      "[700]\ttrain-rmse:0.540333\tvalid-rmse:0.547007\n",
      "[710]\ttrain-rmse:0.539954\tvalid-rmse:0.546695\n",
      "[720]\ttrain-rmse:0.539572\tvalid-rmse:0.546424\n",
      "[730]\ttrain-rmse:0.539174\tvalid-rmse:0.546069\n",
      "[740]\ttrain-rmse:0.538791\tvalid-rmse:0.545798\n",
      "[750]\ttrain-rmse:0.538326\tvalid-rmse:0.545433\n",
      "[760]\ttrain-rmse:0.537949\tvalid-rmse:0.545146\n",
      "[770]\ttrain-rmse:0.53759\tvalid-rmse:0.544879\n",
      "[780]\ttrain-rmse:0.537209\tvalid-rmse:0.544583\n",
      "[790]\ttrain-rmse:0.536779\tvalid-rmse:0.54425\n",
      "[800]\ttrain-rmse:0.536418\tvalid-rmse:0.543966\n",
      "[810]\ttrain-rmse:0.536067\tvalid-rmse:0.5437\n",
      "[820]\ttrain-rmse:0.535745\tvalid-rmse:0.54345\n",
      "[830]\ttrain-rmse:0.535418\tvalid-rmse:0.543217\n",
      "[840]\ttrain-rmse:0.535118\tvalid-rmse:0.542996\n",
      "[850]\ttrain-rmse:0.53477\tvalid-rmse:0.542724\n",
      "[860]\ttrain-rmse:0.534466\tvalid-rmse:0.542478\n",
      "[870]\ttrain-rmse:0.534137\tvalid-rmse:0.542237\n",
      "[880]\ttrain-rmse:0.533784\tvalid-rmse:0.541973\n",
      "[890]\ttrain-rmse:0.533463\tvalid-rmse:0.541733\n",
      "[900]\ttrain-rmse:0.533143\tvalid-rmse:0.541506\n",
      "[910]\ttrain-rmse:0.532789\tvalid-rmse:0.541238\n",
      "[920]\ttrain-rmse:0.532525\tvalid-rmse:0.541036\n",
      "[930]\ttrain-rmse:0.532221\tvalid-rmse:0.540785\n",
      "[940]\ttrain-rmse:0.531956\tvalid-rmse:0.54057\n",
      "[950]\ttrain-rmse:0.531664\tvalid-rmse:0.540355\n",
      "[960]\ttrain-rmse:0.531365\tvalid-rmse:0.540135\n",
      "[970]\ttrain-rmse:0.531094\tvalid-rmse:0.539958\n",
      "[980]\ttrain-rmse:0.530786\tvalid-rmse:0.539722\n",
      "[990]\ttrain-rmse:0.530539\tvalid-rmse:0.539529\n",
      "Time elapsed 60.2841448784\n",
      "rmse value is 0.540008193559\n",
      " r^2 value is 0.474944785142\n",
      " correlation coef is 0.694617751193\n",
      "rmse value is 0.512735451844\n",
      " r^2 value is 0.526640638118\n",
      " correlation coef is 0.725737065097\n"
     ]
    }
   ],
   "source": [
    "y_lgb = lgbm(X_train_cat,y,X_test_cat,y_test)\n",
    "y_rid = ridgeReg(X_train_cat,y,X_test_cat,y_test)\n",
    "y_xg = XgBoost(X_train_cat,y,X_test_cat,y_test)\n",
    "y_ens = ensemble(y_lgb,y_rid,0.6,0.4,y_test)"
   ]
  },
  {
   "cell_type": "markdown",
   "metadata": {
    "_uuid": "5df3ae3a8c7655023207f51294703b990b3705ad"
   },
   "source": [
    "## Text Mining : Tf-Idf, NMF, LDA"
   ]
  },
  {
   "cell_type": "markdown",
   "metadata": {},
   "source": [
    "### Define Tokenizer Function"
   ]
  },
  {
   "cell_type": "code",
   "execution_count": 37,
   "metadata": {
    "_uuid": "2fd6f90862f80955312fc77b83bbd1b867d79b04",
    "collapsed": true
   },
   "outputs": [],
   "source": [
    "stop = set(stopwords.words('english'))\n",
    "def tokenize(text):\n",
    "    \"\"\"\n",
    "    sent_tokenize(): segment text into sentences\n",
    "    word_tokenize(): break sentences into words\n",
    "    \"\"\"\n",
    "    try: \n",
    "        regex = re.compile('[' +re.escape(string.punctuation) + '0-9\\\\r\\\\t\\\\n]')\n",
    "        text = regex.sub(\" \", text) # remove punctuation\n",
    "        \n",
    "        tokens_ = [word_tokenize(s) for s in sent_tokenize(text)]\n",
    "        tokens = []\n",
    "        for token_by_sent in tokens_:\n",
    "            tokens += token_by_sent\n",
    "        tokens = list(filter(lambda t: t.lower() not in stop, tokens))\n",
    "        filtered_tokens = [w for w in tokens if re.search('[a-zA-Z]', w)]\n",
    "        filtered_tokens = [w.lower() for w in filtered_tokens if len(w)>=3]\n",
    "        \n",
    "        return filtered_tokens\n",
    "            \n",
    "    except TypeError as e: print(text,e)"
   ]
  },
  {
   "cell_type": "markdown",
   "metadata": {},
   "source": [
    "### LDA feature extraction"
   ]
  },
  {
   "cell_type": "code",
   "execution_count": 43,
   "metadata": {},
   "outputs": [
    {
     "name": "stdout",
     "output_type": "stream",
     "text": [
      "Extracting tf features for LDA...\n",
      "Time elapsed 92.7914581299\n"
     ]
    }
   ],
   "source": [
    "# use raw counts of words\n",
    "print(\"Extracting tf features for LDA...\")\n",
    "tfidf_vectorizer_lda = CountVectorizer(min_df=20,max_features=50000,\n",
    "                    tokenizer=tokenize,ngram_range=(1,2))\n",
    "\n",
    "\n",
    "#tfidf_vectorizer_lda = CountVectorizer(max_features = 180000, \n",
    "#                             ngram_range = (1,3),\n",
    "#                            stop_words = \"english\")\n",
    "\n",
    "#tfidf_vectorizer_lda = CountVectorizer(\n",
    "#    max_features = 180000,min_df=5, strip_accents='unicode', lowercase =True,\n",
    "#    analyzer='word', token_pattern=r'\\w+', ngram_range=(1, 3),\n",
    "#    stop_words ='english')\n",
    "\n",
    "t0 = startTime()\n",
    "full_tfidf_lda = tfidf_vectorizer_lda.fit_transform(merge['item_description'].apply(str))\n",
    "train_tfidf_lda = tfidf_vectorizer_lda.transform(df_train['item_description'].apply(str))\n",
    "test_tfidf_lda = tfidf_vectorizer_lda.transform(df_test['item_description'].apply(str))\n",
    "endTime(t0)"
   ]
  },
  {
   "cell_type": "markdown",
   "metadata": {
    "_uuid": "d0289c059f87e45261deba645a7ac1067c613529"
   },
   "source": [
    "### TF-IDF feature extraction"
   ]
  },
  {
   "cell_type": "code",
   "execution_count": 44,
   "metadata": {
    "_uuid": "6d060bfe95f3b1506e371f7fe4c95060b55278f7"
   },
   "outputs": [
    {
     "name": "stdout",
     "output_type": "stream",
     "text": [
      "Extracting tf-idf features for NMF and Normal TFID...\n",
      "Time elapsed 0.135686159134\n"
     ]
    }
   ],
   "source": [
    "# Use tf-idf features for NMF.\n",
    "print(\"Extracting tf-idf features for NMF and Normal TFID...\")\n",
    "\n",
    "t0 = startTime()\n",
    "tfidf = TfidfTransformer(norm='l2')\n",
    "tfidf.fit(full_tfidf_lda)\n",
    "full_tfidf = tfidf.transform(full_tfidf_lda)\n",
    "train_tfidf = tfidf.transform(train_tfidf_lda)\n",
    "test_tfidf = tfidf.transform(test_tfidf_lda)\n",
    "endTime(t0)"
   ]
  },
  {
   "cell_type": "markdown",
   "metadata": {
    "_uuid": "3b2061da8c9097083a21acb9a5bdf1c87a94d9a8"
   },
   "source": [
    "### SVD on Tf-Idf features"
   ]
  },
  {
   "cell_type": "code",
   "execution_count": 49,
   "metadata": {
    "_uuid": "907e0937d9f60218bf679fc6704e8133f3a4fc2f"
   },
   "outputs": [
    {
     "name": "stdout",
     "output_type": "stream",
     "text": [
      "SVD on TFID to get Latent Representation : k = 100 ...\n",
      "Time elapsed 7.71344614029\n"
     ]
    }
   ],
   "source": [
    "\n",
    "n_comp = 100\n",
    "print(\"SVD on TFID to get Latent Representation : k = {} ...\".format(n_comp))\n",
    "t0 = startTime()\n",
    "svd_obj = TruncatedSVD(n_components=n_comp, algorithm='arpack')\n",
    "svd_obj.fit(full_tfidf)\n",
    "train_svd = csr_matrix(svd_obj.transform(train_tfidf))\n",
    "test_svd =  csr_matrix(svd_obj.transform(test_tfidf))\n",
    "endTime(t0)\n",
    "\n",
    "#train_svd.columns = ['svd_item_'+str(i) for i in range(n_comp)]\n",
    "#test_svd.columns = ['svd_item_'+str(i) for i in range(n_comp)]\n",
    "#df_train = pd.concat([df_train, train_svd], axis=1)\n",
    "#df_test = pd.concat([df_test, test_svd], axis=1)\n"
   ]
  },
  {
   "cell_type": "markdown",
   "metadata": {},
   "source": [
    "## Base + Tf-Idf SVD Features"
   ]
  },
  {
   "cell_type": "code",
   "execution_count": 51,
   "metadata": {},
   "outputs": [
    {
     "name": "stdout",
     "output_type": "stream",
     "text": [
      "Training until validation scores don't improve for 50 rounds.\n",
      "[100]\ttraining's rmse: 0.542515\tvalid_1's rmse: 0.556927\n",
      "[200]\ttraining's rmse: 0.515411\tvalid_1's rmse: 0.543204\n",
      "[300]\ttraining's rmse: 0.497762\tvalid_1's rmse: 0.537966\n",
      "[400]\ttraining's rmse: 0.484462\tvalid_1's rmse: 0.537559\n",
      "Early stopping, best iteration is:\n",
      "[362]\ttraining's rmse: 0.488615\tvalid_1's rmse: 0.537036\n",
      "rmse value is 0.538659111823\n",
      " r^2 value is 0.477564958676\n",
      " correlation coef is 0.692459936577\n",
      "****************************************\n",
      "\n",
      "Time elapsed 11.314218998\n",
      "Time elapsed 0.0102150440216\n",
      "rmse value is 0.516915054927\n",
      " r^2 value is 0.518891932608\n",
      " correlation coef is 0.721304441339\n",
      "****************************************\n",
      "\n",
      "[0]\ttrain-rmse:2.55258\tvalid-rmse:2.54819\n",
      "Multiple eval metrics have been passed: 'valid-rmse' will be used for early stopping.\n",
      "\n",
      "Will train until valid-rmse hasn't improved in 20 rounds.\n",
      "[10]\ttrain-rmse:2.22085\tvalid-rmse:2.21674\n",
      "[20]\ttrain-rmse:1.93782\tvalid-rmse:1.93425\n",
      "[30]\ttrain-rmse:1.69717\tvalid-rmse:1.69442\n",
      "[40]\ttrain-rmse:1.49361\tvalid-rmse:1.49182\n",
      "[50]\ttrain-rmse:1.32151\tvalid-rmse:1.32134\n",
      "[60]\ttrain-rmse:1.17663\tvalid-rmse:1.17853\n",
      "[70]\ttrain-rmse:1.05548\tvalid-rmse:1.0605\n",
      "[80]\ttrain-rmse:0.954152\tvalid-rmse:0.962539\n",
      "[90]\ttrain-rmse:0.869733\tvalid-rmse:0.881985\n",
      "[100]\ttrain-rmse:0.800373\tvalid-rmse:0.816757\n",
      "[110]\ttrain-rmse:0.742888\tvalid-rmse:0.764119\n",
      "[120]\ttrain-rmse:0.696074\tvalid-rmse:0.72208\n",
      "[130]\ttrain-rmse:0.658084\tvalid-rmse:0.688486\n",
      "[140]\ttrain-rmse:0.627225\tvalid-rmse:0.661686\n",
      "[150]\ttrain-rmse:0.602299\tvalid-rmse:0.640749\n",
      "[160]\ttrain-rmse:0.582009\tvalid-rmse:0.623913\n",
      "[170]\ttrain-rmse:0.564882\tvalid-rmse:0.610858\n",
      "[180]\ttrain-rmse:0.551109\tvalid-rmse:0.600309\n",
      "[190]\ttrain-rmse:0.539807\tvalid-rmse:0.592019\n",
      "[200]\ttrain-rmse:0.53085\tvalid-rmse:0.585341\n",
      "[210]\ttrain-rmse:0.523733\tvalid-rmse:0.580079\n",
      "[220]\ttrain-rmse:0.517366\tvalid-rmse:0.575675\n",
      "[230]\ttrain-rmse:0.512324\tvalid-rmse:0.572057\n",
      "[240]\ttrain-rmse:0.507638\tvalid-rmse:0.569047\n",
      "[250]\ttrain-rmse:0.503697\tvalid-rmse:0.566712\n",
      "[260]\ttrain-rmse:0.500626\tvalid-rmse:0.564688\n",
      "[270]\ttrain-rmse:0.497726\tvalid-rmse:0.562805\n",
      "[280]\ttrain-rmse:0.495066\tvalid-rmse:0.561205\n",
      "[290]\ttrain-rmse:0.492667\tvalid-rmse:0.559681\n",
      "[300]\ttrain-rmse:0.490607\tvalid-rmse:0.558466\n",
      "[310]\ttrain-rmse:0.48883\tvalid-rmse:0.557297\n",
      "[320]\ttrain-rmse:0.486524\tvalid-rmse:0.556179\n",
      "[330]\ttrain-rmse:0.484946\tvalid-rmse:0.555312\n",
      "[340]\ttrain-rmse:0.482815\tvalid-rmse:0.554398\n",
      "[350]\ttrain-rmse:0.481549\tvalid-rmse:0.553633\n",
      "[360]\ttrain-rmse:0.480319\tvalid-rmse:0.552861\n",
      "[370]\ttrain-rmse:0.478805\tvalid-rmse:0.552095\n",
      "[380]\ttrain-rmse:0.477257\tvalid-rmse:0.55137\n",
      "[390]\ttrain-rmse:0.47625\tvalid-rmse:0.550769\n",
      "[400]\ttrain-rmse:0.474805\tvalid-rmse:0.550085\n",
      "[410]\ttrain-rmse:0.473243\tvalid-rmse:0.549399\n",
      "[420]\ttrain-rmse:0.471972\tvalid-rmse:0.548853\n",
      "[430]\ttrain-rmse:0.470965\tvalid-rmse:0.548343\n",
      "[440]\ttrain-rmse:0.469878\tvalid-rmse:0.547783\n",
      "[450]\ttrain-rmse:0.468679\tvalid-rmse:0.547223\n",
      "[460]\ttrain-rmse:0.467704\tvalid-rmse:0.546751\n",
      "[470]\ttrain-rmse:0.46682\tvalid-rmse:0.54636\n",
      "[480]\ttrain-rmse:0.465825\tvalid-rmse:0.545862\n",
      "[490]\ttrain-rmse:0.464654\tvalid-rmse:0.545357\n",
      "[500]\ttrain-rmse:0.463917\tvalid-rmse:0.544921\n",
      "[510]\ttrain-rmse:0.462924\tvalid-rmse:0.54445\n",
      "[520]\ttrain-rmse:0.462023\tvalid-rmse:0.544044\n",
      "[530]\ttrain-rmse:0.461002\tvalid-rmse:0.543529\n",
      "[540]\ttrain-rmse:0.460036\tvalid-rmse:0.543121\n",
      "[550]\ttrain-rmse:0.45909\tvalid-rmse:0.542688\n",
      "[560]\ttrain-rmse:0.458088\tvalid-rmse:0.542332\n",
      "[570]\ttrain-rmse:0.457346\tvalid-rmse:0.541951\n",
      "[580]\ttrain-rmse:0.456316\tvalid-rmse:0.541537\n",
      "[590]\ttrain-rmse:0.455266\tvalid-rmse:0.54115\n",
      "[600]\ttrain-rmse:0.454518\tvalid-rmse:0.540827\n",
      "[610]\ttrain-rmse:0.453789\tvalid-rmse:0.540468\n",
      "[620]\ttrain-rmse:0.453003\tvalid-rmse:0.540119\n",
      "[630]\ttrain-rmse:0.452217\tvalid-rmse:0.539741\n",
      "[640]\ttrain-rmse:0.451284\tvalid-rmse:0.539345\n",
      "[650]\ttrain-rmse:0.45039\tvalid-rmse:0.539015\n",
      "[660]\ttrain-rmse:0.449522\tvalid-rmse:0.538663\n",
      "[670]\ttrain-rmse:0.448771\tvalid-rmse:0.538351\n",
      "[680]\ttrain-rmse:0.447995\tvalid-rmse:0.538044\n",
      "[690]\ttrain-rmse:0.447162\tvalid-rmse:0.537761\n",
      "[700]\ttrain-rmse:0.446465\tvalid-rmse:0.537467\n",
      "[710]\ttrain-rmse:0.445541\tvalid-rmse:0.53714\n",
      "[720]\ttrain-rmse:0.444849\tvalid-rmse:0.536837\n",
      "[730]\ttrain-rmse:0.444305\tvalid-rmse:0.53653\n",
      "[740]\ttrain-rmse:0.443483\tvalid-rmse:0.536188\n",
      "[750]\ttrain-rmse:0.44257\tvalid-rmse:0.535924\n",
      "[760]\ttrain-rmse:0.441943\tvalid-rmse:0.53563\n",
      "[770]\ttrain-rmse:0.441322\tvalid-rmse:0.535324\n",
      "[780]\ttrain-rmse:0.440692\tvalid-rmse:0.53511\n",
      "[790]\ttrain-rmse:0.439946\tvalid-rmse:0.534797\n",
      "[800]\ttrain-rmse:0.438834\tvalid-rmse:0.534458\n",
      "[810]\ttrain-rmse:0.438292\tvalid-rmse:0.534212\n",
      "[820]\ttrain-rmse:0.437693\tvalid-rmse:0.53394\n",
      "[830]\ttrain-rmse:0.437071\tvalid-rmse:0.533693\n",
      "[840]\ttrain-rmse:0.436534\tvalid-rmse:0.533501\n",
      "[850]\ttrain-rmse:0.435755\tvalid-rmse:0.533279\n",
      "[860]\ttrain-rmse:0.435187\tvalid-rmse:0.533044\n",
      "[870]\ttrain-rmse:0.434228\tvalid-rmse:0.532795\n",
      "[880]\ttrain-rmse:0.433747\tvalid-rmse:0.532587\n",
      "[890]\ttrain-rmse:0.433053\tvalid-rmse:0.532261\n",
      "[900]\ttrain-rmse:0.432468\tvalid-rmse:0.532038\n",
      "[910]\ttrain-rmse:0.431858\tvalid-rmse:0.531831\n",
      "[920]\ttrain-rmse:0.43133\tvalid-rmse:0.531631\n",
      "[930]\ttrain-rmse:0.430756\tvalid-rmse:0.53143\n",
      "[940]\ttrain-rmse:0.430148\tvalid-rmse:0.531227\n",
      "[950]\ttrain-rmse:0.429601\tvalid-rmse:0.531001\n",
      "[960]\ttrain-rmse:0.428905\tvalid-rmse:0.530755\n",
      "[970]\ttrain-rmse:0.428122\tvalid-rmse:0.530555\n",
      "[980]\ttrain-rmse:0.427483\tvalid-rmse:0.530341\n",
      "[990]\ttrain-rmse:0.426908\tvalid-rmse:0.530126\n",
      "Time elapsed 1184.84635901\n",
      "rmse value is 0.531929519964\n",
      " r^2 value is 0.490537218256\n",
      " correlation coef is 0.7062023804\n",
      "****************************************\n",
      "\n",
      "rmse value is 0.511432789336\n",
      " r^2 value is 0.529042828897\n",
      " correlation coef is 0.727377925925\n",
      "****************************************\n",
      "\n"
     ]
    }
   ],
   "source": [
    "X_train_svd = hstack((X_train_cat, train_svd)).tocsr()\n",
    "X_test_svd = hstack((X_test_cat, test_svd)).tocsr()\n",
    "\n",
    "y_lgb_svd = lgbm(X_train_svd,y,X_test_svd,y_test)\n",
    "printSep()\n",
    "y_rid_svd = ridgeReg(X_train_svd,y,X_test_svd,y_test)\n",
    "printSep()\n",
    "y_xg_svd = XgBoost(X_train_svd,y,X_test_svd,y_test)\n",
    "printSep()\n",
    "y_ens_svd = ensemble(y_lgb_svd,y_rid_svd,0.6,0.4,y_test)\n",
    "printSep()"
   ]
  },
  {
   "cell_type": "markdown",
   "metadata": {
    "_uuid": "2624a528f65d5dbb5544e1f130b7bf0f3c822887"
   },
   "source": [
    "* ### NMF - Frobenious Norm,Kullback-Leibler, Divergence, LDA"
   ]
  },
  {
   "cell_type": "code",
   "execution_count": 52,
   "metadata": {
    "_uuid": "20be6d90843c44f1951109d4a627bf709321d878"
   },
   "outputs": [
    {
     "name": "stdout",
     "output_type": "stream",
     "text": [
      "Fitting the NMF model (Frobenius norm) with tf-idf features, n_samples=100000 ..\n",
      "Time elapsed 21.6252441406\n"
     ]
    }
   ],
   "source": [
    "n_components = 10\n",
    "n_top_words = 10\n",
    "\n",
    "# Fit the NMF model\n",
    "print(\"Fitting the NMF model (Frobenius norm) with tf-idf features, \"\n",
    "      \"n_samples=%d ..\"\n",
    "      % (n_samples))\n",
    "t0 = startTime()\n",
    "nmf_frob = NMF(n_components=n_components, random_state=1,\n",
    "          alpha=.1, l1_ratio=.5).fit(full_tfidf)\n",
    "endTime(t0)\n",
    "\n",
    "train_nmf_frob = csr_matrix(nmf_frob.transform(train_tfidf))\n",
    "test_nmf_frob = csr_matrix(nmf_frob.transform(test_tfidf))"
   ]
  },
  {
   "cell_type": "markdown",
   "metadata": {},
   "source": [
    "## Base + Tfidf-SVD + NMF-Frobenius"
   ]
  },
  {
   "cell_type": "code",
   "execution_count": 53,
   "metadata": {},
   "outputs": [
    {
     "name": "stdout",
     "output_type": "stream",
     "text": [
      "Training until validation scores don't improve for 50 rounds.\n",
      "[100]\ttraining's rmse: 0.541422\tvalid_1's rmse: 0.554417\n",
      "[200]\ttraining's rmse: 0.514476\tvalid_1's rmse: 0.540421\n",
      "[300]\ttraining's rmse: 0.495864\tvalid_1's rmse: 0.535435\n",
      "[400]\ttraining's rmse: 0.480871\tvalid_1's rmse: 0.533294\n",
      "Early stopping, best iteration is:\n",
      "[423]\ttraining's rmse: 0.478757\tvalid_1's rmse: 0.532874\n",
      "rmse value is 0.535991405575\n",
      " r^2 value is 0.482726858066\n",
      " correlation coef is 0.696553548529\n",
      "****************************************\n",
      "\n",
      "Time elapsed 10.7536699772\n",
      "Time elapsed 0.00996208190918\n",
      "rmse value is 0.516908269442\n",
      " r^2 value is 0.518904563427\n",
      " correlation coef is 0.721313237715\n",
      "****************************************\n",
      "\n",
      "[0]\ttrain-rmse:2.55259\tvalid-rmse:2.54821\n",
      "Multiple eval metrics have been passed: 'valid-rmse' will be used for early stopping.\n",
      "\n",
      "Will train until valid-rmse hasn't improved in 20 rounds.\n",
      "[10]\ttrain-rmse:2.22051\tvalid-rmse:2.21656\n",
      "[20]\ttrain-rmse:1.93742\tvalid-rmse:1.9338\n",
      "[30]\ttrain-rmse:1.69698\tvalid-rmse:1.69411\n",
      "[40]\ttrain-rmse:1.49339\tvalid-rmse:1.49187\n",
      "[50]\ttrain-rmse:1.32122\tvalid-rmse:1.32171\n",
      "[60]\ttrain-rmse:1.17654\tvalid-rmse:1.17956\n",
      "[70]\ttrain-rmse:1.05498\tvalid-rmse:1.06131\n",
      "[80]\ttrain-rmse:0.953691\tvalid-rmse:0.963567\n",
      "[90]\ttrain-rmse:0.869964\tvalid-rmse:0.883438\n",
      "[100]\ttrain-rmse:0.800704\tvalid-rmse:0.818624\n",
      "[110]\ttrain-rmse:0.744031\tvalid-rmse:0.765773\n",
      "[120]\ttrain-rmse:0.697046\tvalid-rmse:0.723305\n",
      "[130]\ttrain-rmse:0.65843\tvalid-rmse:0.689681\n",
      "[140]\ttrain-rmse:0.626938\tvalid-rmse:0.662739\n",
      "[150]\ttrain-rmse:0.601903\tvalid-rmse:0.641889\n",
      "[160]\ttrain-rmse:0.581695\tvalid-rmse:0.625232\n",
      "[170]\ttrain-rmse:0.565104\tvalid-rmse:0.61211\n",
      "[180]\ttrain-rmse:0.551259\tvalid-rmse:0.601584\n",
      "[190]\ttrain-rmse:0.540815\tvalid-rmse:0.593412\n",
      "[200]\ttrain-rmse:0.53173\tvalid-rmse:0.586661\n",
      "[210]\ttrain-rmse:0.524422\tvalid-rmse:0.581305\n",
      "[220]\ttrain-rmse:0.518241\tvalid-rmse:0.577032\n",
      "[230]\ttrain-rmse:0.513166\tvalid-rmse:0.573618\n",
      "[240]\ttrain-rmse:0.508879\tvalid-rmse:0.570666\n",
      "[250]\ttrain-rmse:0.505186\tvalid-rmse:0.568324\n",
      "[260]\ttrain-rmse:0.501807\tvalid-rmse:0.566352\n",
      "[270]\ttrain-rmse:0.498932\tvalid-rmse:0.564303\n",
      "[280]\ttrain-rmse:0.496643\tvalid-rmse:0.562679\n",
      "[290]\ttrain-rmse:0.494423\tvalid-rmse:0.561357\n",
      "[300]\ttrain-rmse:0.492502\tvalid-rmse:0.560124\n",
      "[310]\ttrain-rmse:0.490383\tvalid-rmse:0.558896\n",
      "[320]\ttrain-rmse:0.488488\tvalid-rmse:0.557804\n",
      "[330]\ttrain-rmse:0.486021\tvalid-rmse:0.556671\n",
      "[340]\ttrain-rmse:0.484495\tvalid-rmse:0.555833\n",
      "[350]\ttrain-rmse:0.482803\tvalid-rmse:0.554891\n",
      "[360]\ttrain-rmse:0.481259\tvalid-rmse:0.554148\n",
      "[370]\ttrain-rmse:0.479864\tvalid-rmse:0.553406\n",
      "[380]\ttrain-rmse:0.478495\tvalid-rmse:0.552695\n",
      "[390]\ttrain-rmse:0.477157\tvalid-rmse:0.552082\n",
      "[400]\ttrain-rmse:0.475698\tvalid-rmse:0.551465\n",
      "[410]\ttrain-rmse:0.47466\tvalid-rmse:0.550904\n",
      "[420]\ttrain-rmse:0.473317\tvalid-rmse:0.550342\n",
      "[430]\ttrain-rmse:0.471933\tvalid-rmse:0.549726\n",
      "[440]\ttrain-rmse:0.470996\tvalid-rmse:0.549165\n",
      "[450]\ttrain-rmse:0.469975\tvalid-rmse:0.548701\n",
      "[460]\ttrain-rmse:0.468835\tvalid-rmse:0.548177\n",
      "[470]\ttrain-rmse:0.46776\tvalid-rmse:0.547708\n",
      "[480]\ttrain-rmse:0.466862\tvalid-rmse:0.547216\n",
      "[490]\ttrain-rmse:0.465884\tvalid-rmse:0.546755\n",
      "[500]\ttrain-rmse:0.464658\tvalid-rmse:0.546311\n",
      "[510]\ttrain-rmse:0.463643\tvalid-rmse:0.545803\n",
      "[520]\ttrain-rmse:0.462611\tvalid-rmse:0.545351\n",
      "[530]\ttrain-rmse:0.46155\tvalid-rmse:0.544902\n",
      "[540]\ttrain-rmse:0.460481\tvalid-rmse:0.544537\n",
      "[550]\ttrain-rmse:0.459718\tvalid-rmse:0.544172\n",
      "[560]\ttrain-rmse:0.4588\tvalid-rmse:0.543802\n",
      "[570]\ttrain-rmse:0.457645\tvalid-rmse:0.543404\n",
      "[580]\ttrain-rmse:0.456757\tvalid-rmse:0.543031\n",
      "[590]\ttrain-rmse:0.455812\tvalid-rmse:0.54266\n",
      "[600]\ttrain-rmse:0.454961\tvalid-rmse:0.542325\n",
      "[610]\ttrain-rmse:0.454162\tvalid-rmse:0.542007\n",
      "[620]\ttrain-rmse:0.453242\tvalid-rmse:0.541597\n",
      "[630]\ttrain-rmse:0.452213\tvalid-rmse:0.541233\n",
      "[640]\ttrain-rmse:0.451506\tvalid-rmse:0.540927\n",
      "[650]\ttrain-rmse:0.45058\tvalid-rmse:0.540564\n",
      "[660]\ttrain-rmse:0.449729\tvalid-rmse:0.540208\n",
      "[670]\ttrain-rmse:0.448916\tvalid-rmse:0.539871\n",
      "[680]\ttrain-rmse:0.448146\tvalid-rmse:0.539516\n",
      "[690]\ttrain-rmse:0.447491\tvalid-rmse:0.539211\n",
      "[700]\ttrain-rmse:0.446862\tvalid-rmse:0.538876\n",
      "[710]\ttrain-rmse:0.446174\tvalid-rmse:0.538544\n",
      "[720]\ttrain-rmse:0.445604\tvalid-rmse:0.538264\n",
      "[730]\ttrain-rmse:0.444834\tvalid-rmse:0.537957\n",
      "[740]\ttrain-rmse:0.444036\tvalid-rmse:0.53764\n",
      "[750]\ttrain-rmse:0.443136\tvalid-rmse:0.537313\n",
      "[760]\ttrain-rmse:0.442511\tvalid-rmse:0.537035\n",
      "[770]\ttrain-rmse:0.441768\tvalid-rmse:0.536709\n",
      "[780]\ttrain-rmse:0.440948\tvalid-rmse:0.536406\n",
      "[790]\ttrain-rmse:0.440347\tvalid-rmse:0.536168\n",
      "[800]\ttrain-rmse:0.439562\tvalid-rmse:0.535919\n",
      "[810]\ttrain-rmse:0.438933\tvalid-rmse:0.535651\n",
      "[820]\ttrain-rmse:0.438248\tvalid-rmse:0.535417\n",
      "[830]\ttrain-rmse:0.437368\tvalid-rmse:0.53511\n",
      "[840]\ttrain-rmse:0.436653\tvalid-rmse:0.53486\n",
      "[850]\ttrain-rmse:0.435942\tvalid-rmse:0.534601\n",
      "[860]\ttrain-rmse:0.435418\tvalid-rmse:0.534368\n",
      "[870]\ttrain-rmse:0.43466\tvalid-rmse:0.534099\n",
      "[880]\ttrain-rmse:0.434018\tvalid-rmse:0.533896\n",
      "[890]\ttrain-rmse:0.433493\tvalid-rmse:0.533673\n",
      "[900]\ttrain-rmse:0.432709\tvalid-rmse:0.533423\n",
      "[910]\ttrain-rmse:0.432095\tvalid-rmse:0.533193\n",
      "[920]\ttrain-rmse:0.431644\tvalid-rmse:0.532991\n",
      "[930]\ttrain-rmse:0.430957\tvalid-rmse:0.532763\n",
      "[940]\ttrain-rmse:0.430231\tvalid-rmse:0.532551\n",
      "[950]\ttrain-rmse:0.429757\tvalid-rmse:0.532376\n",
      "[960]\ttrain-rmse:0.429119\tvalid-rmse:0.532125\n",
      "[970]\ttrain-rmse:0.428582\tvalid-rmse:0.531941\n",
      "[980]\ttrain-rmse:0.428062\tvalid-rmse:0.53179\n",
      "[990]\ttrain-rmse:0.427346\tvalid-rmse:0.531581\n",
      "Time elapsed 1121.7117362\n",
      "rmse value is 0.532127442305\n",
      " r^2 value is 0.490158022057\n",
      " correlation coef is 0.70585898929\n",
      "****************************************\n",
      "\n",
      "rmse value is 0.509526571534\n",
      " r^2 value is 0.532546999597\n",
      " correlation coef is 0.729762959536\n",
      "****************************************\n",
      "\n"
     ]
    }
   ],
   "source": [
    "X_train_nmf = hstack((X_train_cat, train_svd, train_nmf_frob)).tocsr()\n",
    "X_test_nmf = hstack((X_test_cat, test_svd, test_nmf_frob)).tocsr()\n",
    "\n",
    "y_lgb_nmf = lgbm(X_train_nmf,y,X_test_nmf,y_test)\n",
    "printSep()\n",
    "y_rid_nmf = ridgeReg(X_train_nmf,y,X_test_nmf,y_test)\n",
    "printSep()\n",
    "y_xg_nmf = XgBoost(X_train_nmf,y,X_test_nmf,y_test)\n",
    "printSep()\n",
    "y_ens_nmf = ensemble(y_lgb_nmf,y_rid_nmf,0.6,0.4,y_test)\n",
    "printSep()"
   ]
  },
  {
   "cell_type": "markdown",
   "metadata": {},
   "source": [
    "# Fit the NMF model -  KLD\n",
    "print(\"Fitting the NMF model (generalized Kullback-Leibler divergence) with \"\n",
    "      \"tf-idf features, n_samples=%d ..\"\n",
    "      % (n_samples))\n",
    "t0 = time()\n",
    "nmf_kld = NMF(n_components=n_components, random_state=1,\n",
    "          beta_loss= 'kullback-leibler', solver='mu', max_iter=1000, alpha=.1,\n",
    "          l1_ratio=.5).fit(full_tfidf)\n",
    "endTime(t0)\n",
    "\n",
    "\n"
   ]
  },
  {
   "cell_type": "markdown",
   "metadata": {},
   "source": [
    "## LDA Fit"
   ]
  },
  {
   "cell_type": "code",
   "execution_count": 54,
   "metadata": {},
   "outputs": [
    {
     "name": "stdout",
     "output_type": "stream",
     "text": [
      "Fitting LDA models with tf features, n_samples=100000 and ..\n",
      "Time elapsed 560.897192955\n"
     ]
    }
   ],
   "source": [
    "#sample_sz = 100000\n",
    "#combined_sample = merge.sample(n=sample_sz)\n",
    "\n",
    "print(\"Fitting LDA models with tf features, \"\n",
    "      \"n_samples=%d and ..\"\n",
    "      % (n_samples))\n",
    "lda = LatentDirichletAllocation(n_components=n_components, max_iter=20,\n",
    "                                learning_method='online',\n",
    "                                learning_offset=50.,\n",
    "                                random_state=0)\n",
    "t0 = startTime()\n",
    "lda.fit(full_tfidf_lda)\n",
    "endTime(t0)\n",
    "\n",
    "\n",
    "\n",
    "train_lda = csr_matrix(lda.transform(train_tfidf_lda))\n",
    "test_lda = csr_matrix(lda.transform(test_tfidf_lda))\n"
   ]
  },
  {
   "cell_type": "markdown",
   "metadata": {},
   "source": [
    "## Base + Tf- Idf : SVD + Nmf : Frobenius + LDA"
   ]
  },
  {
   "cell_type": "code",
   "execution_count": 55,
   "metadata": {},
   "outputs": [
    {
     "name": "stdout",
     "output_type": "stream",
     "text": [
      "Training until validation scores don't improve for 50 rounds.\n",
      "[100]\ttraining's rmse: 0.543283\tvalid_1's rmse: 0.556673\n",
      "[200]\ttraining's rmse: 0.511156\tvalid_1's rmse: 0.540191\n",
      "[300]\ttraining's rmse: 0.493785\tvalid_1's rmse: 0.535101\n",
      "[400]\ttraining's rmse: 0.478592\tvalid_1's rmse: 0.534222\n",
      "Early stopping, best iteration is:\n",
      "[384]\ttraining's rmse: 0.480788\tvalid_1's rmse: 0.533045\n",
      "rmse value is 0.536690988055\n",
      " r^2 value is 0.4813756745\n",
      " correlation coef is 0.695674065741\n",
      "****************************************\n",
      "\n",
      "Time elapsed 11.963465929\n",
      "Time elapsed 0.0106019973755\n",
      "rmse value is 0.516806161905\n",
      " r^2 value is 0.519094611144\n",
      " correlation coef is 0.721453556\n",
      "****************************************\n",
      "\n",
      "[0]\ttrain-rmse:2.55259\tvalid-rmse:2.54823\n",
      "Multiple eval metrics have been passed: 'valid-rmse' will be used for early stopping.\n",
      "\n",
      "Will train until valid-rmse hasn't improved in 20 rounds.\n",
      "[10]\ttrain-rmse:2.22038\tvalid-rmse:2.21628\n",
      "[20]\ttrain-rmse:1.93738\tvalid-rmse:1.9337\n",
      "[30]\ttrain-rmse:1.69658\tvalid-rmse:1.69391\n",
      "[40]\ttrain-rmse:1.49284\tvalid-rmse:1.49165\n",
      "[50]\ttrain-rmse:1.32065\tvalid-rmse:1.32109\n",
      "[60]\ttrain-rmse:1.17563\tvalid-rmse:1.17874\n",
      "[70]\ttrain-rmse:1.05401\tvalid-rmse:1.06045\n",
      "[80]\ttrain-rmse:0.952717\tvalid-rmse:0.963037\n",
      "[90]\ttrain-rmse:0.868371\tvalid-rmse:0.882809\n",
      "[100]\ttrain-rmse:0.798584\tvalid-rmse:0.817645\n",
      "[110]\ttrain-rmse:0.740771\tvalid-rmse:0.765093\n",
      "[120]\ttrain-rmse:0.69352\tvalid-rmse:0.722547\n",
      "[130]\ttrain-rmse:0.65482\tvalid-rmse:0.689174\n",
      "[140]\ttrain-rmse:0.62338\tvalid-rmse:0.662127\n",
      "[150]\ttrain-rmse:0.597484\tvalid-rmse:0.641181\n",
      "[160]\ttrain-rmse:0.576739\tvalid-rmse:0.624453\n",
      "[170]\ttrain-rmse:0.559832\tvalid-rmse:0.611188\n",
      "[180]\ttrain-rmse:0.545909\tvalid-rmse:0.600991\n",
      "[190]\ttrain-rmse:0.534809\tvalid-rmse:0.592846\n",
      "[200]\ttrain-rmse:0.525682\tvalid-rmse:0.586212\n",
      "[210]\ttrain-rmse:0.518192\tvalid-rmse:0.580835\n",
      "[220]\ttrain-rmse:0.512508\tvalid-rmse:0.576656\n",
      "[230]\ttrain-rmse:0.507153\tvalid-rmse:0.573032\n",
      "[240]\ttrain-rmse:0.502907\tvalid-rmse:0.570102\n",
      "[250]\ttrain-rmse:0.499009\tvalid-rmse:0.567571\n",
      "[260]\ttrain-rmse:0.495339\tvalid-rmse:0.565461\n",
      "[270]\ttrain-rmse:0.492276\tvalid-rmse:0.563632\n",
      "[280]\ttrain-rmse:0.489238\tvalid-rmse:0.562032\n",
      "[290]\ttrain-rmse:0.486879\tvalid-rmse:0.560648\n",
      "[300]\ttrain-rmse:0.484292\tvalid-rmse:0.559369\n",
      "[310]\ttrain-rmse:0.482093\tvalid-rmse:0.558251\n",
      "[320]\ttrain-rmse:0.480368\tvalid-rmse:0.557261\n",
      "[330]\ttrain-rmse:0.478361\tvalid-rmse:0.556299\n",
      "[340]\ttrain-rmse:0.476886\tvalid-rmse:0.555361\n",
      "[350]\ttrain-rmse:0.475089\tvalid-rmse:0.554479\n",
      "[360]\ttrain-rmse:0.473691\tvalid-rmse:0.553597\n",
      "[370]\ttrain-rmse:0.472221\tvalid-rmse:0.552832\n",
      "[380]\ttrain-rmse:0.470866\tvalid-rmse:0.552141\n",
      "[390]\ttrain-rmse:0.469159\tvalid-rmse:0.551375\n",
      "[400]\ttrain-rmse:0.467908\tvalid-rmse:0.550764\n",
      "[410]\ttrain-rmse:0.466785\tvalid-rmse:0.550173\n",
      "[420]\ttrain-rmse:0.465405\tvalid-rmse:0.549473\n",
      "[430]\ttrain-rmse:0.464346\tvalid-rmse:0.549006\n",
      "[440]\ttrain-rmse:0.463164\tvalid-rmse:0.548467\n",
      "[450]\ttrain-rmse:0.461896\tvalid-rmse:0.547943\n",
      "[460]\ttrain-rmse:0.460821\tvalid-rmse:0.547512\n",
      "[470]\ttrain-rmse:0.459819\tvalid-rmse:0.547003\n",
      "[480]\ttrain-rmse:0.458856\tvalid-rmse:0.546529\n",
      "[490]\ttrain-rmse:0.457686\tvalid-rmse:0.545993\n",
      "[500]\ttrain-rmse:0.456551\tvalid-rmse:0.545528\n",
      "[510]\ttrain-rmse:0.455461\tvalid-rmse:0.545007\n",
      "[520]\ttrain-rmse:0.454707\tvalid-rmse:0.544605\n",
      "[530]\ttrain-rmse:0.453713\tvalid-rmse:0.544151\n",
      "[540]\ttrain-rmse:0.452644\tvalid-rmse:0.543728\n",
      "[550]\ttrain-rmse:0.451755\tvalid-rmse:0.543305\n",
      "[560]\ttrain-rmse:0.450956\tvalid-rmse:0.542945\n",
      "[570]\ttrain-rmse:0.449849\tvalid-rmse:0.54253\n",
      "[580]\ttrain-rmse:0.448945\tvalid-rmse:0.542116\n",
      "[590]\ttrain-rmse:0.447932\tvalid-rmse:0.541719\n",
      "[600]\ttrain-rmse:0.447175\tvalid-rmse:0.54142\n",
      "[610]\ttrain-rmse:0.446424\tvalid-rmse:0.541138\n",
      "[620]\ttrain-rmse:0.445457\tvalid-rmse:0.540724\n",
      "[630]\ttrain-rmse:0.444564\tvalid-rmse:0.540362\n",
      "[640]\ttrain-rmse:0.443718\tvalid-rmse:0.540049\n",
      "[650]\ttrain-rmse:0.443095\tvalid-rmse:0.539734\n",
      "[660]\ttrain-rmse:0.442276\tvalid-rmse:0.539432\n",
      "[670]\ttrain-rmse:0.4413\tvalid-rmse:0.539079\n",
      "[680]\ttrain-rmse:0.440348\tvalid-rmse:0.538683\n",
      "[690]\ttrain-rmse:0.439655\tvalid-rmse:0.538367\n",
      "[700]\ttrain-rmse:0.438912\tvalid-rmse:0.538056\n",
      "[710]\ttrain-rmse:0.438184\tvalid-rmse:0.537777\n",
      "[720]\ttrain-rmse:0.437125\tvalid-rmse:0.537426\n",
      "[730]\ttrain-rmse:0.436469\tvalid-rmse:0.537161\n",
      "[740]\ttrain-rmse:0.435835\tvalid-rmse:0.536927\n",
      "[750]\ttrain-rmse:0.435284\tvalid-rmse:0.536658\n",
      "[760]\ttrain-rmse:0.434434\tvalid-rmse:0.536405\n",
      "[770]\ttrain-rmse:0.433693\tvalid-rmse:0.536105\n",
      "[780]\ttrain-rmse:0.43289\tvalid-rmse:0.535853\n",
      "[790]\ttrain-rmse:0.432168\tvalid-rmse:0.53561\n",
      "[800]\ttrain-rmse:0.431606\tvalid-rmse:0.535392\n",
      "[810]\ttrain-rmse:0.431024\tvalid-rmse:0.535196\n",
      "[820]\ttrain-rmse:0.430401\tvalid-rmse:0.534932\n",
      "[830]\ttrain-rmse:0.429788\tvalid-rmse:0.534688\n",
      "[840]\ttrain-rmse:0.429252\tvalid-rmse:0.534403\n",
      "[850]\ttrain-rmse:0.428666\tvalid-rmse:0.534177\n",
      "[860]\ttrain-rmse:0.42807\tvalid-rmse:0.533907\n",
      "[870]\ttrain-rmse:0.427537\tvalid-rmse:0.533692\n",
      "[880]\ttrain-rmse:0.426993\tvalid-rmse:0.533472\n",
      "[890]\ttrain-rmse:0.426379\tvalid-rmse:0.53327\n",
      "[900]\ttrain-rmse:0.425655\tvalid-rmse:0.533022\n",
      "[910]\ttrain-rmse:0.42516\tvalid-rmse:0.532823\n",
      "[920]\ttrain-rmse:0.42436\tvalid-rmse:0.532559\n",
      "[930]\ttrain-rmse:0.423658\tvalid-rmse:0.532334\n",
      "[940]\ttrain-rmse:0.423023\tvalid-rmse:0.532065\n",
      "[950]\ttrain-rmse:0.422514\tvalid-rmse:0.531878\n",
      "[960]\ttrain-rmse:0.421999\tvalid-rmse:0.531696\n",
      "[970]\ttrain-rmse:0.421471\tvalid-rmse:0.531472\n",
      "[980]\ttrain-rmse:0.420828\tvalid-rmse:0.531238\n",
      "[990]\ttrain-rmse:0.420158\tvalid-rmse:0.531055\n",
      "Time elapsed 1182.0534699\n",
      "rmse value is 0.530993927581\n",
      " r^2 value is 0.49232779501\n",
      " correlation coef is 0.707555795315\n",
      "****************************************\n",
      "\n",
      "rmse value is 0.509485024934\n",
      " r^2 value is 0.532623228364\n",
      " correlation coef is 0.729820450365\n",
      "****************************************\n",
      "\n"
     ]
    }
   ],
   "source": [
    "X_train_lda = hstack((X_train_cat, train_svd, train_nmf_frob, train_lda)).tocsr()\n",
    "X_test_lda = hstack((X_test_cat, test_svd, test_nmf_frob,test_lda)).tocsr()\n",
    "\n",
    "y_lgb_lda = lgbm(X_train_lda,y,X_test_lda,y_test)\n",
    "printSep()\n",
    "y_rid_lda = ridgeReg(X_train_lda,y,X_test_lda,y_test)\n",
    "printSep()\n",
    "y_xg_lda = XgBoost(X_train_lda,y,X_test_lda,y_test)\n",
    "printSep()\n",
    "y_ens_lda = ensemble(y_lgb_lda,y_rid_lda,0.6,0.4,y_test)\n",
    "printSep()"
   ]
  },
  {
   "cell_type": "code",
   "execution_count": null,
   "metadata": {
    "_uuid": "c92337e2474dd34b52dd8cb9246fafb85dad1538",
    "collapsed": true
   },
   "outputs": [],
   "source": [
    "train_nmf_frob = csr_matrix(nmf_frob.transform(train_tfidf))\n",
    "test_nmf_frob = csr_matrix(nmf_frob.transform(test_tfidf))\n",
    "\n",
    "#train_nmf_kld = csr_matrix(nmf_kld.transform(train_tfidf))\n",
    "#test_nmf_kld = csr_matrix(nmf_kld.transform(test_tfidf))\n",
    "\n",
    "train_lda = csr_matrix(lda.transform(train_tfidf_lda))\n",
    "test_lda = csr_matrix(lda.transform(test_tfidf_lda))\n",
    "\n",
    "\n",
    "#train_nmf_frob_df.columns = ['nmf_frob_'+str(i) for i in range(n_components)]\n",
    "#test_nmf_frob_df.columns = ['nmf_frob_'+str(i) for i in range(n_components)]\n",
    "#df_train = pd.concat([df_train, train_nmf_frob_df], axis=1)\n",
    "#df_test = pd.concat([df_test, test_nmf_frob_df], axis=1)\n",
    "\n",
    "#train_nmf_kld_df.columns = ['nmf_kld_'+str(i) for i in range(n_components)]\n",
    "#test_nmf_kld_df.columns = ['nmf_kld_'+str(i) for i in range(n_components)]\n",
    "#df_train = pd.concat([df_train, train_nmf_kld_df], axis=1)\n",
    "#df_test = pd.concat([df_test, test_nmf_kld_df], axis=1)\n",
    "\n",
    "#train_lda_df.columns = ['lda_'+str(i) for i in range(n_components)]\n",
    "#test_lda_df.columns = ['lda_'+str(i) for i in range(n_components)]\n",
    "#df_train = pd.concat([df_train, train_lda_df], axis=1)\n",
    "#df_test = pd.concat([df_test, test_lda_df], axis=1)\n",
    "\n"
   ]
  },
  {
   "cell_type": "code",
   "execution_count": null,
   "metadata": {
    "collapsed": true
   },
   "outputs": [],
   "source": []
  },
  {
   "cell_type": "code",
   "execution_count": 56,
   "metadata": {
    "_uuid": "21ad65fcddf91e437f93caff8cf936fcf155c919"
   },
   "outputs": [
    {
     "name": "stdout",
     "output_type": "stream",
     "text": [
      "(1000, 8)\n",
      "(1000, 7)\n"
     ]
    }
   ],
   "source": [
    "print(df_train.shape)\n",
    "print(df_test.shape)"
   ]
  },
  {
   "cell_type": "code",
   "execution_count": null,
   "metadata": {
    "_uuid": "a115c24b37d1d2736ee41f55d76dd6bfa780f58b",
    "collapsed": true
   },
   "outputs": [],
   "source": [
    "X_train_cat = sparse_merge[:nrow_train]\n",
    "X_test_cat = sparse_merge[nrow_train:]\n",
    "#X_train = hstack((X_train_cat, train_svd, train_lda, train_nmf_frob, train_nmf_kld)).tocsr()\n",
    "#X_test = hstack((X_test_cat, test_svd, test_lda, test_nmf_frob, test_nmf_kld)).tocsr()\n",
    "X_train = hstack((X_train_cat, train_svd, train_lda, train_nmf_frob)).tocsr()\n",
    "X_test = hstack((X_test_cat, test_svd, test_lda, test_nmf_frob)).tocsr()"
   ]
  },
  {
   "cell_type": "code",
   "execution_count": null,
   "metadata": {
    "collapsed": true
   },
   "outputs": [],
   "source": [
    "def calcMse(yTrue, yPred):\n",
    "    s = 0\n",
    "    for i in range(len(yTrue)):\n",
    "        s += (yTrue[i]-yPred[i])**2\n",
    "    return math.sqrt(s*1.0/len(yTrue))"
   ]
  },
  {
   "cell_type": "code",
   "execution_count": null,
   "metadata": {
    "_uuid": "c10d6fe7e6e0ac009931bdc82902c46e21424633",
    "collapsed": true
   },
   "outputs": [],
   "source": [
    "train_X, valid_X, train_y, valid_y = train_test_split(X_train, y, test_size = 0.1, random_state = 144) \n",
    "d_train = lgb.Dataset(train_X, label=train_y, max_bin=8192)\n",
    "d_valid = lgb.Dataset(valid_X, label=valid_y, max_bin=8192)\n",
    "watchlist = [d_train, d_valid]\n",
    "params = {\n",
    "        'learning_rate': 0.75,\n",
    "        'application': 'regression',\n",
    "        'max_depth': 3,\n",
    "        'num_leaves': 50,\n",
    "        'verbosity': -1,\n",
    "        'metric': 'RMSE',\n",
    "}\n",
    "\n",
    "model = lgb.train(params, train_set=d_train, num_boost_round=3600, valid_sets=watchlist, \\\n",
    "early_stopping_rounds=50, verbose_eval=100) \n",
    "preds = 0.55*model.predict(X_test)\n",
    "\n",
    "s = startTime()\n",
    "model = Ridge(solver=\"sag\", fit_intercept=True, random_state=205)\n",
    "model.fit(X_train, y)\n",
    "endTime(s)\n",
    "s = startTime()\n",
    "preds += 0.45*model.predict(X=X_test)\n",
    "endTime(s)\n",
    "y_pred = np.expm1(preds)\n",
    "print  'rmse value is ' + str(calcMse(y_test,y_pred))"
   ]
  },
  {
   "cell_type": "code",
   "execution_count": null,
   "metadata": {
    "collapsed": true
   },
   "outputs": [],
   "source": []
  }
 ],
 "metadata": {
  "kernelspec": {
   "display_name": "Python 2",
   "language": "python",
   "name": "python2"
  },
  "language_info": {
   "codemirror_mode": {
    "name": "ipython",
    "version": 2
   },
   "file_extension": ".py",
   "mimetype": "text/x-python",
   "name": "python",
   "nbconvert_exporter": "python",
   "pygments_lexer": "ipython2",
   "version": "2.7.13"
  }
 },
 "nbformat": 4,
 "nbformat_minor": 1
}
